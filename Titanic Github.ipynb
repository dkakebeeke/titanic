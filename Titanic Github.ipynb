{
 "cells": [
  {
   "cell_type": "markdown",
   "metadata": {},
   "source": [
    "# Titanic\n",
    "\n",
    "**Titanic data set as example to practice data science skills from problem formulation to model evaluation and selection**  \n",
    "\n",
    "**Part 1.** - define objective, evaluation metric and benchmark for the titanic data set <br>\n",
    "**Part 2.** - exploratory data analysis <br>\n",
    "**Part 3.** - data prepararation, cleaning and feature engineering <br>\n",
    "**Part 4.** - deep dive example: decision tree <br>\n",
    "**Part 5.** - multi-model optimization, incl. ensemble"
   ]
  },
  {
   "cell_type": "code",
   "execution_count": 30,
   "metadata": {
    "collapsed": true
   },
   "outputs": [],
   "source": [
    "# import some useful libraries...\n",
    "\n",
    "import pandas as pd\n",
    "import numpy as np\n",
    "import sklearn\n",
    "import matplotlib.pyplot as plt\n",
    "import seaborn as sns"
   ]
  },
  {
   "cell_type": "markdown",
   "metadata": {},
   "source": [
    "## Data"
   ]
  },
  {
   "cell_type": "markdown",
   "metadata": {},
   "source": [
    "Downloaded train.csv and test.csv from [Kaggle](https://www.kaggle.com/c/titanic/data)"
   ]
  },
  {
   "cell_type": "code",
   "execution_count": 29,
   "metadata": {
    "collapsed": false
   },
   "outputs": [],
   "source": [
    "# Create dataframes for train and test\n",
    "\n",
    "df_train = pd.read_csv('train.csv')\n",
    "df_test = pd.read_csv('test.csv')"
   ]
  },
  {
   "cell_type": "markdown",
   "metadata": {},
   "source": [
    "## 1. Experimental setup\n",
    "\n",
    "We start by defining what we want to achieve, how we are going to measure success and by creating a benchmark to measure much we are improving\n",
    "\n",
    "**[...] Objective**: Predict whether a passenger on the Titanic survived or not <br>\n",
    "**[...] Evaluation metric**: Accuracy <br>\n",
    "**[1.1] Benchmark**: Majority class"
   ]
  },
  {
   "cell_type": "markdown",
   "metadata": {},
   "source": [
    "### 1.1 Benchmark\n",
    "\n",
    "A simple benchmark to measure progress against is predicting the majority class"
   ]
  },
  {
   "cell_type": "code",
   "execution_count": 15,
   "metadata": {
    "collapsed": false
   },
   "outputs": [
    {
     "name": "stdout",
     "output_type": "stream",
     "text": [
      "% survived: 0.383838383838\n",
      "% not_survived: 0.616161616162\n"
     ]
    }
   ],
   "source": [
    "print('% survived:',np.sum(df_train['Survived']==1)/df_train['Survived'].count())\n",
    "print('% not_survived:', np.sum(df_train['Survived']==0)/df_train['Survived'].count())\n",
    "\n",
    "# Benchmark will be ~62% for always predicting a passenger did not survive"
   ]
  },
  {
   "cell_type": "markdown",
   "metadata": {},
   "source": [
    "## 2. Exploratory data analysis"
   ]
  },
  {
   "cell_type": "markdown",
   "metadata": {},
   "source": [
    "### Overall notes based on exploration below\n",
    "\n",
    "#### Missing observations\n",
    "* Cabin has a lot of missing observations. Cannot fill in a reasonable way, but also do not want to throw away that much data. Ergo, will include 'X' later in cleaning to fill (absence of information is also information)\n",
    "* Age also has a lot of missing obersvations. We can either fill these with the average, or choose to be more sophisticated. Age might e.g., correlate well with title in 'Name'\n",
    "* Embarked only has two missing observations. Since I don't want to do a lot of work for just two rows, I will use the most prevalent class to fill\n",
    "\n",
    "#### Distribution of each variable / Normalize\n",
    "* For certain classifiers it will be important to normalize the variables. Eg 'Pclass', 'Age' and 'Fare' are quite different in order of magnitude.\n",
    "\n",
    "#### Correlation\n",
    "* None of the variables are very strongly correlated\n",
    "* Some intuitive correlations, e.g.,:\n",
    "    * Pclass and survival (lower class number = more premium = closer to deck = higher chance of survival)\n",
    "    * Pclass and Age (older people are wealthier and buy more premium rooms)\n",
    "    * Pclass and Fare (lower class = more premium = more expensive)\n",
    "    * ... Gender and survival is probably also highly correlated, but we'll see that later once we clean/prep the data"
   ]
  },
  {
   "cell_type": "code",
   "execution_count": 5,
   "metadata": {
    "collapsed": false
   },
   "outputs": [
    {
     "data": {
      "text/html": [
       "<div>\n",
       "<style>\n",
       "    .dataframe thead tr:only-child th {\n",
       "        text-align: right;\n",
       "    }\n",
       "\n",
       "    .dataframe thead th {\n",
       "        text-align: left;\n",
       "    }\n",
       "\n",
       "    .dataframe tbody tr th {\n",
       "        vertical-align: top;\n",
       "    }\n",
       "</style>\n",
       "<table border=\"1\" class=\"dataframe\">\n",
       "  <thead>\n",
       "    <tr style=\"text-align: right;\">\n",
       "      <th></th>\n",
       "      <th>PassengerId</th>\n",
       "      <th>Survived</th>\n",
       "      <th>Pclass</th>\n",
       "      <th>Name</th>\n",
       "      <th>Sex</th>\n",
       "      <th>Age</th>\n",
       "      <th>SibSp</th>\n",
       "      <th>Parch</th>\n",
       "      <th>Ticket</th>\n",
       "      <th>Fare</th>\n",
       "      <th>Cabin</th>\n",
       "      <th>Embarked</th>\n",
       "    </tr>\n",
       "  </thead>\n",
       "  <tbody>\n",
       "    <tr>\n",
       "      <th>0</th>\n",
       "      <td>1</td>\n",
       "      <td>0</td>\n",
       "      <td>3</td>\n",
       "      <td>Braund, Mr. Owen Harris</td>\n",
       "      <td>male</td>\n",
       "      <td>22.0</td>\n",
       "      <td>1</td>\n",
       "      <td>0</td>\n",
       "      <td>A/5 21171</td>\n",
       "      <td>7.2500</td>\n",
       "      <td>NaN</td>\n",
       "      <td>S</td>\n",
       "    </tr>\n",
       "    <tr>\n",
       "      <th>1</th>\n",
       "      <td>2</td>\n",
       "      <td>1</td>\n",
       "      <td>1</td>\n",
       "      <td>Cumings, Mrs. John Bradley (Florence Briggs Th...</td>\n",
       "      <td>female</td>\n",
       "      <td>38.0</td>\n",
       "      <td>1</td>\n",
       "      <td>0</td>\n",
       "      <td>PC 17599</td>\n",
       "      <td>71.2833</td>\n",
       "      <td>C85</td>\n",
       "      <td>C</td>\n",
       "    </tr>\n",
       "    <tr>\n",
       "      <th>2</th>\n",
       "      <td>3</td>\n",
       "      <td>1</td>\n",
       "      <td>3</td>\n",
       "      <td>Heikkinen, Miss. Laina</td>\n",
       "      <td>female</td>\n",
       "      <td>26.0</td>\n",
       "      <td>0</td>\n",
       "      <td>0</td>\n",
       "      <td>STON/O2. 3101282</td>\n",
       "      <td>7.9250</td>\n",
       "      <td>NaN</td>\n",
       "      <td>S</td>\n",
       "    </tr>\n",
       "    <tr>\n",
       "      <th>3</th>\n",
       "      <td>4</td>\n",
       "      <td>1</td>\n",
       "      <td>1</td>\n",
       "      <td>Futrelle, Mrs. Jacques Heath (Lily May Peel)</td>\n",
       "      <td>female</td>\n",
       "      <td>35.0</td>\n",
       "      <td>1</td>\n",
       "      <td>0</td>\n",
       "      <td>113803</td>\n",
       "      <td>53.1000</td>\n",
       "      <td>C123</td>\n",
       "      <td>S</td>\n",
       "    </tr>\n",
       "    <tr>\n",
       "      <th>4</th>\n",
       "      <td>5</td>\n",
       "      <td>0</td>\n",
       "      <td>3</td>\n",
       "      <td>Allen, Mr. William Henry</td>\n",
       "      <td>male</td>\n",
       "      <td>35.0</td>\n",
       "      <td>0</td>\n",
       "      <td>0</td>\n",
       "      <td>373450</td>\n",
       "      <td>8.0500</td>\n",
       "      <td>NaN</td>\n",
       "      <td>S</td>\n",
       "    </tr>\n",
       "  </tbody>\n",
       "</table>\n",
       "</div>"
      ],
      "text/plain": [
       "   PassengerId  Survived  Pclass  \\\n",
       "0            1         0       3   \n",
       "1            2         1       1   \n",
       "2            3         1       3   \n",
       "3            4         1       1   \n",
       "4            5         0       3   \n",
       "\n",
       "                                                Name     Sex   Age  SibSp  \\\n",
       "0                            Braund, Mr. Owen Harris    male  22.0      1   \n",
       "1  Cumings, Mrs. John Bradley (Florence Briggs Th...  female  38.0      1   \n",
       "2                             Heikkinen, Miss. Laina  female  26.0      0   \n",
       "3       Futrelle, Mrs. Jacques Heath (Lily May Peel)  female  35.0      1   \n",
       "4                           Allen, Mr. William Henry    male  35.0      0   \n",
       "\n",
       "   Parch            Ticket     Fare Cabin Embarked  \n",
       "0      0         A/5 21171   7.2500   NaN        S  \n",
       "1      0          PC 17599  71.2833   C85        C  \n",
       "2      0  STON/O2. 3101282   7.9250   NaN        S  \n",
       "3      0            113803  53.1000  C123        S  \n",
       "4      0            373450   8.0500   NaN        S  "
      ]
     },
     "execution_count": 5,
     "metadata": {},
     "output_type": "execute_result"
    }
   ],
   "source": [
    "df_train.head()"
   ]
  },
  {
   "cell_type": "code",
   "execution_count": 420,
   "metadata": {
    "collapsed": false
   },
   "outputs": [
    {
     "name": "stdout",
     "output_type": "stream",
     "text": [
      "Features:  Index(['PassengerId', 'Survived', 'Pclass', 'Name', 'Sex', 'Age', 'SibSp',\n",
      "       'Parch', 'Ticket', 'Fare', 'Cabin', 'Embarked'],\n",
      "      dtype='object')\n",
      "Dimensions:  (891, 12)\n",
      "Data types:  [dtype('int64') dtype('O') dtype('float64')]\n"
     ]
    }
   ],
   "source": [
    "print('Features: ', df_train.columns)\n",
    "print('Dimensions: ', df_train.shape)\n",
    "print('Data types: ', df_train.dtypes.unique())"
   ]
  },
  {
   "cell_type": "code",
   "execution_count": 421,
   "metadata": {
    "collapsed": false
   },
   "outputs": [
    {
     "data": {
      "text/html": [
       "<div>\n",
       "<style>\n",
       "    .dataframe thead tr:only-child th {\n",
       "        text-align: right;\n",
       "    }\n",
       "\n",
       "    .dataframe thead th {\n",
       "        text-align: left;\n",
       "    }\n",
       "\n",
       "    .dataframe tbody tr th {\n",
       "        vertical-align: top;\n",
       "    }\n",
       "</style>\n",
       "<table border=\"1\" class=\"dataframe\">\n",
       "  <thead>\n",
       "    <tr style=\"text-align: right;\">\n",
       "      <th></th>\n",
       "      <th>data_type</th>\n",
       "      <th>num_obs</th>\n",
       "      <th>missing_obs</th>\n",
       "      <th>unique_obs</th>\n",
       "    </tr>\n",
       "  </thead>\n",
       "  <tbody>\n",
       "    <tr>\n",
       "      <th>PassengerId</th>\n",
       "      <td>int64</td>\n",
       "      <td>891</td>\n",
       "      <td>0</td>\n",
       "      <td>891</td>\n",
       "    </tr>\n",
       "    <tr>\n",
       "      <th>Survived</th>\n",
       "      <td>int64</td>\n",
       "      <td>891</td>\n",
       "      <td>0</td>\n",
       "      <td>2</td>\n",
       "    </tr>\n",
       "    <tr>\n",
       "      <th>Pclass</th>\n",
       "      <td>int64</td>\n",
       "      <td>891</td>\n",
       "      <td>0</td>\n",
       "      <td>3</td>\n",
       "    </tr>\n",
       "    <tr>\n",
       "      <th>Name</th>\n",
       "      <td>object</td>\n",
       "      <td>891</td>\n",
       "      <td>0</td>\n",
       "      <td>891</td>\n",
       "    </tr>\n",
       "    <tr>\n",
       "      <th>Sex</th>\n",
       "      <td>object</td>\n",
       "      <td>891</td>\n",
       "      <td>0</td>\n",
       "      <td>2</td>\n",
       "    </tr>\n",
       "    <tr>\n",
       "      <th>Age</th>\n",
       "      <td>float64</td>\n",
       "      <td>714</td>\n",
       "      <td>177</td>\n",
       "      <td>88</td>\n",
       "    </tr>\n",
       "    <tr>\n",
       "      <th>SibSp</th>\n",
       "      <td>int64</td>\n",
       "      <td>891</td>\n",
       "      <td>0</td>\n",
       "      <td>7</td>\n",
       "    </tr>\n",
       "    <tr>\n",
       "      <th>Parch</th>\n",
       "      <td>int64</td>\n",
       "      <td>891</td>\n",
       "      <td>0</td>\n",
       "      <td>7</td>\n",
       "    </tr>\n",
       "    <tr>\n",
       "      <th>Ticket</th>\n",
       "      <td>object</td>\n",
       "      <td>891</td>\n",
       "      <td>0</td>\n",
       "      <td>681</td>\n",
       "    </tr>\n",
       "    <tr>\n",
       "      <th>Fare</th>\n",
       "      <td>float64</td>\n",
       "      <td>891</td>\n",
       "      <td>0</td>\n",
       "      <td>248</td>\n",
       "    </tr>\n",
       "    <tr>\n",
       "      <th>Cabin</th>\n",
       "      <td>object</td>\n",
       "      <td>204</td>\n",
       "      <td>687</td>\n",
       "      <td>147</td>\n",
       "    </tr>\n",
       "    <tr>\n",
       "      <th>Embarked</th>\n",
       "      <td>object</td>\n",
       "      <td>889</td>\n",
       "      <td>2</td>\n",
       "      <td>3</td>\n",
       "    </tr>\n",
       "  </tbody>\n",
       "</table>\n",
       "</div>"
      ],
      "text/plain": [
       "            data_type  num_obs  missing_obs  unique_obs\n",
       "PassengerId     int64      891            0         891\n",
       "Survived        int64      891            0           2\n",
       "Pclass          int64      891            0           3\n",
       "Name           object      891            0         891\n",
       "Sex            object      891            0           2\n",
       "Age           float64      714          177          88\n",
       "SibSp           int64      891            0           7\n",
       "Parch           int64      891            0           7\n",
       "Ticket         object      891            0         681\n",
       "Fare          float64      891            0         248\n",
       "Cabin          object      204          687         147\n",
       "Embarked       object      889            2           3"
      ]
     },
     "execution_count": 421,
     "metadata": {},
     "output_type": "execute_result"
    }
   ],
   "source": [
    "data_table = pd.DataFrame(columns = ['data_type', 'num_obs', 'missing_obs', 'unique_obs'])\n",
    "data_table['data_type'] = df_train.dtypes\n",
    "data_table['num_obs'] = df_train.count()\n",
    "data_table['missing_obs']  = df_train.isnull().sum()\n",
    "data_table['unique_obs'] = df_train.nunique()\n",
    "\n",
    "data_table"
   ]
  },
  {
   "cell_type": "code",
   "execution_count": 422,
   "metadata": {
    "collapsed": false
   },
   "outputs": [
    {
     "data": {
      "text/html": [
       "<div>\n",
       "<style>\n",
       "    .dataframe thead tr:only-child th {\n",
       "        text-align: right;\n",
       "    }\n",
       "\n",
       "    .dataframe thead th {\n",
       "        text-align: left;\n",
       "    }\n",
       "\n",
       "    .dataframe tbody tr th {\n",
       "        vertical-align: top;\n",
       "    }\n",
       "</style>\n",
       "<table border=\"1\" class=\"dataframe\">\n",
       "  <thead>\n",
       "    <tr style=\"text-align: right;\">\n",
       "      <th></th>\n",
       "      <th>PassengerId</th>\n",
       "      <th>Survived</th>\n",
       "      <th>Pclass</th>\n",
       "      <th>Age</th>\n",
       "      <th>SibSp</th>\n",
       "      <th>Parch</th>\n",
       "      <th>Fare</th>\n",
       "    </tr>\n",
       "  </thead>\n",
       "  <tbody>\n",
       "    <tr>\n",
       "      <th>count</th>\n",
       "      <td>891.000000</td>\n",
       "      <td>891.000000</td>\n",
       "      <td>891.000000</td>\n",
       "      <td>714.000000</td>\n",
       "      <td>891.000000</td>\n",
       "      <td>891.000000</td>\n",
       "      <td>891.000000</td>\n",
       "    </tr>\n",
       "    <tr>\n",
       "      <th>mean</th>\n",
       "      <td>446.000000</td>\n",
       "      <td>0.383838</td>\n",
       "      <td>2.308642</td>\n",
       "      <td>29.699118</td>\n",
       "      <td>0.523008</td>\n",
       "      <td>0.381594</td>\n",
       "      <td>32.204208</td>\n",
       "    </tr>\n",
       "    <tr>\n",
       "      <th>std</th>\n",
       "      <td>257.353842</td>\n",
       "      <td>0.486592</td>\n",
       "      <td>0.836071</td>\n",
       "      <td>14.526497</td>\n",
       "      <td>1.102743</td>\n",
       "      <td>0.806057</td>\n",
       "      <td>49.693429</td>\n",
       "    </tr>\n",
       "    <tr>\n",
       "      <th>min</th>\n",
       "      <td>1.000000</td>\n",
       "      <td>0.000000</td>\n",
       "      <td>1.000000</td>\n",
       "      <td>0.420000</td>\n",
       "      <td>0.000000</td>\n",
       "      <td>0.000000</td>\n",
       "      <td>0.000000</td>\n",
       "    </tr>\n",
       "    <tr>\n",
       "      <th>25%</th>\n",
       "      <td>223.500000</td>\n",
       "      <td>0.000000</td>\n",
       "      <td>2.000000</td>\n",
       "      <td>20.125000</td>\n",
       "      <td>0.000000</td>\n",
       "      <td>0.000000</td>\n",
       "      <td>7.910400</td>\n",
       "    </tr>\n",
       "    <tr>\n",
       "      <th>50%</th>\n",
       "      <td>446.000000</td>\n",
       "      <td>0.000000</td>\n",
       "      <td>3.000000</td>\n",
       "      <td>28.000000</td>\n",
       "      <td>0.000000</td>\n",
       "      <td>0.000000</td>\n",
       "      <td>14.454200</td>\n",
       "    </tr>\n",
       "    <tr>\n",
       "      <th>75%</th>\n",
       "      <td>668.500000</td>\n",
       "      <td>1.000000</td>\n",
       "      <td>3.000000</td>\n",
       "      <td>38.000000</td>\n",
       "      <td>1.000000</td>\n",
       "      <td>0.000000</td>\n",
       "      <td>31.000000</td>\n",
       "    </tr>\n",
       "    <tr>\n",
       "      <th>max</th>\n",
       "      <td>891.000000</td>\n",
       "      <td>1.000000</td>\n",
       "      <td>3.000000</td>\n",
       "      <td>80.000000</td>\n",
       "      <td>8.000000</td>\n",
       "      <td>6.000000</td>\n",
       "      <td>512.329200</td>\n",
       "    </tr>\n",
       "  </tbody>\n",
       "</table>\n",
       "</div>"
      ],
      "text/plain": [
       "       PassengerId    Survived      Pclass         Age       SibSp  \\\n",
       "count   891.000000  891.000000  891.000000  714.000000  891.000000   \n",
       "mean    446.000000    0.383838    2.308642   29.699118    0.523008   \n",
       "std     257.353842    0.486592    0.836071   14.526497    1.102743   \n",
       "min       1.000000    0.000000    1.000000    0.420000    0.000000   \n",
       "25%     223.500000    0.000000    2.000000   20.125000    0.000000   \n",
       "50%     446.000000    0.000000    3.000000   28.000000    0.000000   \n",
       "75%     668.500000    1.000000    3.000000   38.000000    1.000000   \n",
       "max     891.000000    1.000000    3.000000   80.000000    8.000000   \n",
       "\n",
       "            Parch        Fare  \n",
       "count  891.000000  891.000000  \n",
       "mean     0.381594   32.204208  \n",
       "std      0.806057   49.693429  \n",
       "min      0.000000    0.000000  \n",
       "25%      0.000000    7.910400  \n",
       "50%      0.000000   14.454200  \n",
       "75%      0.000000   31.000000  \n",
       "max      6.000000  512.329200  "
      ]
     },
     "execution_count": 422,
     "metadata": {},
     "output_type": "execute_result"
    }
   ],
   "source": [
    "df_train.describe()"
   ]
  },
  {
   "cell_type": "code",
   "execution_count": 423,
   "metadata": {
    "collapsed": false
   },
   "outputs": [
    {
     "data": {
      "text/html": [
       "<div>\n",
       "<style>\n",
       "    .dataframe thead tr:only-child th {\n",
       "        text-align: right;\n",
       "    }\n",
       "\n",
       "    .dataframe thead th {\n",
       "        text-align: left;\n",
       "    }\n",
       "\n",
       "    .dataframe tbody tr th {\n",
       "        vertical-align: top;\n",
       "    }\n",
       "</style>\n",
       "<table border=\"1\" class=\"dataframe\">\n",
       "  <thead>\n",
       "    <tr style=\"text-align: right;\">\n",
       "      <th></th>\n",
       "      <th>Name</th>\n",
       "      <th>Sex</th>\n",
       "      <th>Ticket</th>\n",
       "      <th>Cabin</th>\n",
       "      <th>Embarked</th>\n",
       "    </tr>\n",
       "  </thead>\n",
       "  <tbody>\n",
       "    <tr>\n",
       "      <th>count</th>\n",
       "      <td>891</td>\n",
       "      <td>891</td>\n",
       "      <td>891</td>\n",
       "      <td>204</td>\n",
       "      <td>889</td>\n",
       "    </tr>\n",
       "    <tr>\n",
       "      <th>unique</th>\n",
       "      <td>891</td>\n",
       "      <td>2</td>\n",
       "      <td>681</td>\n",
       "      <td>147</td>\n",
       "      <td>3</td>\n",
       "    </tr>\n",
       "    <tr>\n",
       "      <th>top</th>\n",
       "      <td>Wilhelms, Mr. Charles</td>\n",
       "      <td>male</td>\n",
       "      <td>CA. 2343</td>\n",
       "      <td>B96 B98</td>\n",
       "      <td>S</td>\n",
       "    </tr>\n",
       "    <tr>\n",
       "      <th>freq</th>\n",
       "      <td>1</td>\n",
       "      <td>577</td>\n",
       "      <td>7</td>\n",
       "      <td>4</td>\n",
       "      <td>644</td>\n",
       "    </tr>\n",
       "  </tbody>\n",
       "</table>\n",
       "</div>"
      ],
      "text/plain": [
       "                         Name   Sex    Ticket    Cabin Embarked\n",
       "count                     891   891       891      204      889\n",
       "unique                    891     2       681      147        3\n",
       "top     Wilhelms, Mr. Charles  male  CA. 2343  B96 B98        S\n",
       "freq                        1   577         7        4      644"
      ]
     },
     "execution_count": 423,
     "metadata": {},
     "output_type": "execute_result"
    }
   ],
   "source": [
    "df_train.describe(include = ['O'])"
   ]
  },
  {
   "cell_type": "code",
   "execution_count": 424,
   "metadata": {
    "collapsed": false
   },
   "outputs": [
    {
     "data": {
      "image/png": "[encoded data removed]",
      "text/plain": [
       "<matplotlib.figure.Figure at 0x15697f98>"
      ]
     },
     "metadata": {},
     "output_type": "display_data"
    }
   ],
   "source": [
    "fig, axes = plt.subplots(2, 4, figsize=(16, 10));\n",
    "sns.countplot('Survived',data=df_train,ax=axes[0,0])\n",
    "sns.countplot('Pclass',data=df_train,ax=axes[0,1])\n",
    "sns.countplot('Sex',data=df_train,ax=axes[0,2])\n",
    "sns.distplot(df_train['Age'].dropna(), ax=axes[0,3])\n",
    "sns.countplot('SibSp',data=df_train,ax=axes[1,0])\n",
    "sns.countplot('Parch',data=df_train,ax=axes[1,1])\n",
    "sns.distplot(df_train['Fare'],ax=axes[1,2])\n",
    "sns.countplot('Embarked',data=df_train,ax=axes[1,3])\n",
    "\n",
    "plt.show();"
   ]
  },
  {
   "cell_type": "code",
   "execution_count": 425,
   "metadata": {
    "collapsed": false
   },
   "outputs": [
    {
     "data": {
      "image/png": "[encoded data removed]",
      "text/plain": [
       "<matplotlib.figure.Figure at 0x18b1c390>"
      ]
     },
     "metadata": {},
     "output_type": "display_data"
    }
   ],
   "source": [
    "# create data for the correlation matrix\n",
    "data = df_train.corr();\n",
    "\n",
    "# create a figure object, add one subplot and make it a bit larger / easier to see\n",
    "fig, ax = plt.subplots(figsize=(10, 10));\n",
    "cax = ax.matshow(data, cmap='RdYlGn', vmin = -1, vmax = 1);\n",
    "\n",
    "plt.xticks(range(len(data.columns)), data.columns);\n",
    "plt.yticks(range(len(data.columns)), data.columns);\n",
    "\n",
    "fig.colorbar(cax, fraction = 0.15, shrink = 0.82);\n",
    "\n",
    "for (i, j), z in np.ndenumerate(data):\n",
    "    ax.text(j, i, '{:0.2f}'.format(z), ha='center', va='center',\n",
    "            bbox=dict(boxstyle='round', facecolor='white', edgecolor='0.3'))\n",
    "\n",
    "ax.grid(axis='both', b=0)\n",
    "\n",
    "# show result\n",
    "plt.show();"
   ]
  },
  {
   "cell_type": "markdown",
   "metadata": {},
   "source": [
    "### 2.1 Correlates of survival"
   ]
  },
  {
   "cell_type": "code",
   "execution_count": 148,
   "metadata": {
    "collapsed": false
   },
   "outputs": [
    {
     "data": {
      "image/png": "[encoded data removed]",
      "text/plain": [
       "<matplotlib.figure.Figure at 0x17b517b8>"
      ]
     },
     "metadata": {},
     "output_type": "display_data"
    }
   ],
   "source": [
    "fig, axes = plt.subplots(2, 4, figsize=(16, 10))\n",
    "\n",
    "sns.barplot(x='Pclass', y='Survived',data=df_train,ax=axes[0,0]).set_ylim(0,1)\n",
    "sns.barplot(x='Sex', y='Survived',data=df_train,ax=axes[0,1]).set_ylim(0,1)\n",
    "sns.boxplot(x='Survived', y='Age', data=df_train,ax=axes[0,2])\n",
    "sns.barplot(x='SibSp', y='Survived',data=df_train,ax=axes[0,3]).set_ylim(0,1)\n",
    "sns.barplot(x='Parch', y='Survived',data=df_train,ax=axes[1,0]).set_ylim(0,1)\n",
    "sns.boxplot(x='Survived', y='Fare', data=df_train,ax=axes[1,1])\n",
    "sns.barplot(x='Embarked', y='Survived',data=df_train,ax=axes[1,2]).set_ylim(0,1)\n",
    "plt.show()"
   ]
  },
  {
   "cell_type": "markdown",
   "metadata": {},
   "source": [
    "### Observations\n",
    "**Most important factors:**\n",
    "* Gender: Being female greatly enhances chance of survival (greatest diff ~.6)\n",
    "* Class: People that could afford a premium room near top deck had much greater chance of survival (greatest diff ~.4)\n",
    "* Siblings/Spouse: Having one kid/spouse was good for survival, but it drops after (greatest diff ~.4)\n",
    "* Embarked: Where you boarded matters. This might be correlated with eg wealth, thus Class (greatest diff ~.2)\n",
    "* Parents/Children: Not much variation if we exclude value of 5\n",
    "  \n",
    "\n",
    "* Age: Average and distribution of survivors is slightly lower, but not by much\n",
    "* Fare: Paying a higher fare helped, as suspected from the correlation with Class\n"
   ]
  },
  {
   "cell_type": "markdown",
   "metadata": {},
   "source": [
    "## 3.  Data preparation, cleaning and feature engineering\n",
    "\n",
    "General data preparation and cleaning. Later on, depending on the algorithm used some addition transformations might be necessary <br>(e.g., numerical vs. one-hot encoding)"
   ]
  },
  {
   "cell_type": "markdown",
   "metadata": {},
   "source": [
    "### Notes:\n",
    "* Drop features: I will drop 'Ticket' as I don't see any useful information in addition to e.g., fare\n",
    "* NaN values: \n",
    "    * Age: Fill with average age based on title (analysis to be done here after)\n",
    "    * Cabin: Fill NaN values with 'X'\n",
    "    * Embarked:  Fill with most prevalent class = 'C'\n",
    "* Normalization: Not needed for decision trees\n",
    "* Encoding/binning: \n",
    "    * Name: Will extract title only\n",
    "    * Age: Bin according to age, e.g.:Baby, Child, Teenager, (young) adult, senior\n",
    "    * Cabin: Use first letter only, 'X' for NaN\n",
    "    * Fare: Bin according to quartiles we found via describe(). Fill with most common quartile for Pclass if NaN"
   ]
  },
  {
   "cell_type": "code",
   "execution_count": 31,
   "metadata": {
    "collapsed": false
   },
   "outputs": [],
   "source": [
    "# First, create 'raw' copy of data\n",
    "df_train_raw = df_train.copy(deep=True)\n",
    "df_test_raw = df_test.copy(deep=True)"
   ]
  },
  {
   "cell_type": "code",
   "execution_count": 32,
   "metadata": {
    "collapsed": false
   },
   "outputs": [],
   "source": [
    "# Age - fillna (see next paragraph, more involved steps)\n",
    "\n",
    "# Cabin\n",
    "df_train['Cabin'] = df_train['Cabin'].fillna('X')\n",
    "df_train['Cabin'] = df_train['Cabin'].apply(lambda x: x[0])\n",
    "\n",
    "\n",
    "# Embarked\n",
    "df_train['Embarked'] = df_train['Embarked'].fillna('C')\n",
    "\n",
    "# Name - extract title\n",
    "df_train['Title'] = df_train['Name'].str.extract(' ([A-Za-z]+)\\.', expand=False)\n",
    "\n",
    "# Age - bucketing\n",
    "bins = (0, 5, 12, 18, 30, 60, 100) # based on quartiles and visual inspection distribution plot\n",
    "labels = ['Baby', 'Child', 'Teenager','Young Adult', 'Adult', 'Senior']\n",
    "df_train['Age'] = pd.cut(df_train['Age'], bins, labels=labels)\n",
    "\n",
    "# Cabin (see above)\n",
    "\n",
    "# Fare (see further below for fillna)\n",
    "bins = (0, 8, 15, 31, 520) # based on quartiles\n",
    "labels = ['1st_Q', '2nd_Q', '3rd_Q','4th_Q']\n",
    "df_train['Fare'] = pd.cut(df_train['Fare'], bins, labels=labels)"
   ]
  },
  {
   "cell_type": "code",
   "execution_count": 33,
   "metadata": {
    "collapsed": false
   },
   "outputs": [],
   "source": [
    "# Age - fillna (based on typical age of a person with a certain title)\n",
    "# Create Age and Title lookup table\n",
    "Age_Title_pivot = pd.pivot_table(data = df_train, values = 'Survived', index = 'Title', columns = 'Age', aggfunc = 'count')\n",
    "Age_Title_lookup = Age_Title_pivot.apply(lambda x: np.argmax(x, axis=0), axis = 1)\n",
    "\n",
    "# Create index list of Age NaN values and corresponding Pclass number\n",
    "nulls = df_train.loc[df_train['Age'].isnull(), 'Title']\n",
    "\n",
    "# Fill Age NaNs with lookup\n",
    "df_train.loc[df_train['Age'].isnull(), 'Age'] = Age_Title_lookup.loc[nulls].values\n"
   ]
  },
  {
   "cell_type": "code",
   "execution_count": 34,
   "metadata": {
    "collapsed": false
   },
   "outputs": [],
   "source": [
    "# Fare - fillna (based on typical quartile given a Pclass)\n",
    "# Create quartile and Pclass lookup table\n",
    "Pclass_Fare_pivot = pd.pivot_table(data = df_train, values = 'Survived', index = 'Pclass', columns = 'Fare', aggfunc = 'count')\n",
    "Pclass_Fare_lookup = Pclass_Fare_pivot.apply(lambda x: np.argmax(x, axis=0), axis = 1)\n",
    "\n",
    "# Create index list of Fare NaN values and corresponding Pclass number\n",
    "nulls = df_train.loc[df_train['Fare'].isnull(), 'Pclass']\n",
    "\n",
    "# Fill Age NaNs with lookup\n",
    "df_train.loc[df_train['Fare'].isnull(), 'Fare'] = Pclass_Fare_lookup.loc[nulls].values"
   ]
  },
  {
   "cell_type": "code",
   "execution_count": 35,
   "metadata": {
    "collapsed": false
   },
   "outputs": [],
   "source": [
    "# Drop features we will not use (Name, Ticket)\n",
    "df_train = df_train.drop(['PassengerId', 'Name', 'Ticket'], axis = 1)"
   ]
  },
  {
   "cell_type": "code",
   "execution_count": 36,
   "metadata": {
    "collapsed": false
   },
   "outputs": [
    {
     "name": "stdout",
     "output_type": "stream",
     "text": [
      "<class 'pandas.core.frame.DataFrame'>\n",
      "RangeIndex: 891 entries, 0 to 890\n",
      "Data columns (total 10 columns):\n",
      "Survived    891 non-null int64\n",
      "Pclass      891 non-null int64\n",
      "Sex         891 non-null object\n",
      "Age         891 non-null category\n",
      "SibSp       891 non-null int64\n",
      "Parch       891 non-null int64\n",
      "Fare        891 non-null category\n",
      "Cabin       891 non-null object\n",
      "Embarked    891 non-null object\n",
      "Title       891 non-null object\n",
      "dtypes: category(2), int64(4), object(4)\n",
      "memory usage: 57.9+ KB\n"
     ]
    }
   ],
   "source": [
    "df_train.info()"
   ]
  },
  {
   "cell_type": "code",
   "execution_count": 37,
   "metadata": {
    "collapsed": false
   },
   "outputs": [],
   "source": [
    "# OOOOPS - forgot I also have to do this for the test set\n",
    "# Would have been better to define functions or firast  :-(\n",
    "\n",
    "# Cabin\n",
    "df_test['Cabin'] = df_test['Cabin'].fillna('X')\n",
    "df_test['Cabin'] = df_test['Cabin'].apply(lambda x: x[0])\n",
    "\n",
    "# Name - extract title and drop Name\n",
    "df_test['Title'] = df_test['Name'].str.extract(' ([A-Za-z]+)\\.', expand=False)\n",
    "\n",
    "# Age - bucketing\n",
    "bins = (0, 5, 12, 18, 30, 60, 100) # based on quartiles and visual inspection distribution plot of train\n",
    "labels = ['Baby', 'Child', 'Teenager','Young Adult', 'Adult', 'Senior']\n",
    "df_test['Age'] = pd.cut(df_test['Age'], bins, labels=labels)\n",
    "\n",
    "# Age - fillna using train lookup for consistency\n",
    "nulls = df_test.loc[df_test['Age'].isnull(), 'Title']\n",
    "df_test.loc[df_test['Age'].isnull(), 'Age'] = Age_Title_lookup.loc[nulls].values\n",
    "\n",
    "# Fare - bucketing\n",
    "bins = (0, 8, 15, 31, 520) # based on quartiles\n",
    "labels = ['1st_Q', '2nd_Q', '3rd_Q','4th_Q']\n",
    "df_test['Fare'] = pd.cut(df_test['Fare'], bins, labels=labels)\n",
    "\n",
    "# Fare - fillna using train lookup for consistency\n",
    "nulls = df_test.loc[df_test['Fare'].isnull(), 'Pclass']\n",
    "df_test.loc[df_test['Fare'].isnull(), 'Fare'] = Pclass_Fare_lookup.loc[nulls].values"
   ]
  },
  {
   "cell_type": "code",
   "execution_count": 38,
   "metadata": {
    "collapsed": false
   },
   "outputs": [],
   "source": [
    "df_test = df_test.drop(['PassengerId', 'Name', 'Ticket'], axis = 1)"
   ]
  },
  {
   "cell_type": "code",
   "execution_count": 39,
   "metadata": {
    "collapsed": false
   },
   "outputs": [
    {
     "name": "stdout",
     "output_type": "stream",
     "text": [
      "<class 'pandas.core.frame.DataFrame'>\n",
      "RangeIndex: 418 entries, 0 to 417\n",
      "Data columns (total 9 columns):\n",
      "Pclass      418 non-null int64\n",
      "Sex         418 non-null object\n",
      "Age         418 non-null category\n",
      "SibSp       418 non-null int64\n",
      "Parch       418 non-null int64\n",
      "Fare        418 non-null category\n",
      "Cabin       418 non-null object\n",
      "Embarked    418 non-null object\n",
      "Title       418 non-null object\n",
      "dtypes: category(2), int64(3), object(4)\n",
      "memory usage: 24.1+ KB\n"
     ]
    }
   ],
   "source": [
    "df_test.info()"
   ]
  },
  {
   "cell_type": "code",
   "execution_count": 40,
   "metadata": {
    "collapsed": true
   },
   "outputs": [],
   "source": [
    "# Some data bookkeeping ...\n",
    "df_test_clean = df_test.copy(deep=True) # for other models later\n",
    "df_train_clean = df_train.copy(deep=True)\n",
    "\n",
    "df_test_numcat = df_test.copy(deep=True) # for decision trees\n",
    "df_train_numcat = df_train.copy(deep=True)"
   ]
  },
  {
   "cell_type": "markdown",
   "metadata": {},
   "source": [
    "## 4.  Deep dive example: Decision tree"
   ]
  },
  {
   "cell_type": "code",
   "execution_count": 41,
   "metadata": {
    "collapsed": false
   },
   "outputs": [],
   "source": [
    "# Specific data prep  for decision tree: convert categorical variables into numerical\n",
    "# Note: Numerical outperforms one-hot encoding for trees (scale invariant to numerical (so fine), but one-hot creates huge trees)\n",
    "\n",
    "# Use LabelEncoder to quickly transform features into numerical categories\n",
    "from sklearn import preprocessing\n",
    "def num_encoder(df_train, df_test):\n",
    "    features = ['Sex', 'Age', 'Fare', 'Cabin', 'Embarked', 'Title']\n",
    "    df_total = pd.concat([df_train[features], df_test[features]])\n",
    "    \n",
    "    for feature in features:\n",
    "        le = preprocessing.LabelEncoder()\n",
    "        le = le.fit(df_total[feature])\n",
    "        df_train[feature] = le.transform(df_train[feature])\n",
    "        df_test[feature] = le.transform(df_test[feature])\n",
    "    return df_train, df_test\n",
    "\n",
    "df_train_numcat, df_test_numcat = num_encoder(df_train_numcat, df_test_numcat)"
   ]
  },
  {
   "cell_type": "code",
   "execution_count": 42,
   "metadata": {
    "collapsed": false
   },
   "outputs": [
    {
     "name": "stdout",
     "output_type": "stream",
     "text": [
      "Average Training score:  0.91856887675\n",
      "Average Test score:  0.813778799228\n"
     ]
    }
   ],
   "source": [
    "from sklearn import tree\n",
    "from sklearn.tree import DecisionTreeClassifier\n",
    "from sklearn.model_selection import cross_validate\n",
    "from sklearn.metrics import make_scorer, accuracy_score\n",
    "\n",
    "# create data format\n",
    "df_data = df_train_numcat.drop(['Survived'], axis = 1)\n",
    "df_target = df_train_numcat['Survived']\n",
    "\n",
    "# Initialize classifier\n",
    "clf = DecisionTreeClassifier(random_state=42)\n",
    "\n",
    "# Do cross-validation\n",
    "acc = make_scorer(accuracy_score)\n",
    "scores = cross_validate(clf, df_data, df_target, scoring = acc, cv=10, return_train_score=True)\n",
    "\n",
    "print('Average Training score: ', np.average(scores['train_score']))\n",
    "print('Average Test score: ', np.average(scores['test_score']))"
   ]
  },
  {
   "cell_type": "code",
   "execution_count": 44,
   "metadata": {
    "collapsed": false
   },
   "outputs": [
    {
     "data": {
      "text/html": [
       "<div>\n",
       "<style>\n",
       "    .dataframe thead tr:only-child th {\n",
       "        text-align: right;\n",
       "    }\n",
       "\n",
       "    .dataframe thead th {\n",
       "        text-align: left;\n",
       "    }\n",
       "\n",
       "    .dataframe tbody tr th {\n",
       "        vertical-align: top;\n",
       "    }\n",
       "</style>\n",
       "<table border=\"1\" class=\"dataframe\">\n",
       "  <thead>\n",
       "    <tr style=\"text-align: right;\">\n",
       "      <th></th>\n",
       "      <th>Sex</th>\n",
       "      <th>Pclass</th>\n",
       "      <th>Cabin</th>\n",
       "      <th>SibSp</th>\n",
       "      <th>Title</th>\n",
       "      <th>Age</th>\n",
       "      <th>Fare</th>\n",
       "      <th>Embarked</th>\n",
       "      <th>Parch</th>\n",
       "    </tr>\n",
       "  </thead>\n",
       "  <tbody>\n",
       "    <tr>\n",
       "      <th>Importance</th>\n",
       "      <td>0.397172</td>\n",
       "      <td>0.109405</td>\n",
       "      <td>0.09417</td>\n",
       "      <td>0.082566</td>\n",
       "      <td>0.07998</td>\n",
       "      <td>0.076032</td>\n",
       "      <td>0.069361</td>\n",
       "      <td>0.052414</td>\n",
       "      <td>0.038902</td>\n",
       "    </tr>\n",
       "  </tbody>\n",
       "</table>\n",
       "</div>"
      ],
      "text/plain": [
       "                 Sex    Pclass    Cabin     SibSp    Title       Age  \\\n",
       "Importance  0.397172  0.109405  0.09417  0.082566  0.07998  0.076032   \n",
       "\n",
       "                Fare  Embarked     Parch  \n",
       "Importance  0.069361  0.052414  0.038902  "
      ]
     },
     "execution_count": 44,
     "metadata": {},
     "output_type": "execute_result"
    }
   ],
   "source": [
    "# Feature importance\n",
    "clf = clf.fit(df_data, df_target)\n",
    "\n",
    "feature_table = pd.DataFrame(data = [clf.feature_importances_], index = ['Importance'], columns = df_data.columns)\n",
    "feature_table.sort_values(by = 'Importance', axis = 1, ascending = False)"
   ]
  },
  {
   "cell_type": "markdown",
   "metadata": {},
   "source": [
    "### Observations\n",
    "* **Results:** The avg training score is very high (91%) and much higher than the avg test score (81%). Tree is likely overfitting.\n",
    "* **Features:**\n",
    "    * Sex: (being female) indeed most important\n",
    "    * Socio-economic status: Pclass/Title are most important after ; Title is also important, but only for men\n",
    "    * \"Women and children first\" does not seem immediatly obvious from these results (Age/SibSp not not that important)\n",
    "    * First 3/4 levels of tree still intuitive, but interpretation beocomes difficult further down\n",
    "* Sidenote: the Title category might be improved as the numerical labels have no order in them and there are many classes. This might make it hard for the algorithm to make the most effective split."
   ]
  },
  {
   "cell_type": "markdown",
   "metadata": {},
   "source": [
    "### 4.1 Tree tuning\n",
    "\n",
    "Show tree diagram, chose max_depth = 4"
   ]
  },
  {
   "cell_type": "code",
   "execution_count": 45,
   "metadata": {
    "collapsed": false
   },
   "outputs": [
    {
     "name": "stdout",
     "output_type": "stream",
     "text": [
      "Average Training score:  0.832772166105\n"
     ]
    }
   ],
   "source": [
    "from sklearn import tree\n",
    "from sklearn.tree import DecisionTreeClassifier\n",
    "from sklearn.model_selection import cross_validate\n",
    "from sklearn.metrics import make_scorer, accuracy_score\n",
    "\n",
    "# data\n",
    "df_data = df_train_numcat.drop(['Survived'], axis = 1)\n",
    "df_target = df_train_numcat['Survived']\n",
    "\n",
    "# Initialize classifier\n",
    "clf = DecisionTreeClassifier(max_depth = 4, random_state=42)\n",
    "clf = clf.fit(df_data, df_target)\n",
    "\n",
    "print('Average Training score: ', clf.score(df_data, df_target))"
   ]
  },
  {
   "cell_type": "code",
   "execution_count": 387,
   "metadata": {
    "collapsed": false
   },
   "outputs": [
    {
     "data": {
      "image/svg+xml": [
       "<?xml version=\"1.0\" encoding=\"UTF-8\" standalone=\"no\"?>\r\n",
       "<!DOCTYPE svg PUBLIC \"-//W3C//DTD SVG 1.1//EN\"\r\n",
       " \"http://www.w3.org/Graphics/SVG/1.1/DTD/svg11.dtd\">\r\n",
       "<!-- Generated by graphviz version 2.38.0 (20140413.2041)\r\n",
       " -->\r\n",
       "<!-- Title: Tree Pages: 1 -->\r\n",
       "<svg width=\"2070pt\" height=\"552pt\"\r\n",
       " viewBox=\"0.00 0.00 2070.00 552.00\" xmlns=\"http://www.w3.org/2000/svg\" xmlns:xlink=\"http://www.w3.org/1999/xlink\">\r\n",
       "<g id=\"graph0\" class=\"graph\" transform=\"scale(1 1) rotate(0) translate(4 548)\">\r\n",
       "<title>Tree</title>\r\n",
       "<polygon fill=\"white\" stroke=\"none\" points=\"-4,4 -4,-548 2066,-548 2066,4 -4,4\"/>\r\n",
       "<!-- 0 -->\r\n",
       "<g id=\"node1\" class=\"node\"><title>0</title>\r\n",
       "<path fill=\"#e58139\" fill-opacity=\"0.376471\" stroke=\"black\" d=\"M1094,-544C1094,-544 988,-544 988,-544 982,-544 976,-538 976,-532 976,-532 976,-473 976,-473 976,-467 982,-461 988,-461 988,-461 1094,-461 1094,-461 1100,-461 1106,-467 1106,-473 1106,-473 1106,-532 1106,-532 1106,-538 1100,-544 1094,-544\"/>\r\n",
       "<text text-anchor=\"start\" x=\"1010.5\" y=\"-528.8\" font-family=\"Helvetica,sans-Serif\" font-size=\"14.00\">Sex ≤ 0.5</text>\r\n",
       "<text text-anchor=\"start\" x=\"1003.5\" y=\"-513.8\" font-family=\"Helvetica,sans-Serif\" font-size=\"14.00\">gini = 0.473</text>\r\n",
       "<text text-anchor=\"start\" x=\"993.5\" y=\"-498.8\" font-family=\"Helvetica,sans-Serif\" font-size=\"14.00\">samples = 891</text>\r\n",
       "<text text-anchor=\"start\" x=\"984\" y=\"-483.8\" font-family=\"Helvetica,sans-Serif\" font-size=\"14.00\">value = [549, 342]</text>\r\n",
       "<text text-anchor=\"start\" x=\"1000\" y=\"-468.8\" font-family=\"Helvetica,sans-Serif\" font-size=\"14.00\">class = dead</text>\r\n",
       "</g>\r\n",
       "<!-- 1 -->\r\n",
       "<g id=\"node2\" class=\"node\"><title>1</title>\r\n",
       "<path fill=\"#399de5\" fill-opacity=\"0.650980\" stroke=\"black\" d=\"M841,-425C841,-425 743,-425 743,-425 737,-425 731,-419 731,-413 731,-413 731,-354 731,-354 731,-348 737,-342 743,-342 743,-342 841,-342 841,-342 847,-342 853,-348 853,-354 853,-354 853,-413 853,-413 853,-419 847,-425 841,-425\"/>\r\n",
       "<text text-anchor=\"start\" x=\"752.5\" y=\"-409.8\" font-family=\"Helvetica,sans-Serif\" font-size=\"14.00\">Pclass ≤ 2.5</text>\r\n",
       "<text text-anchor=\"start\" x=\"754.5\" y=\"-394.8\" font-family=\"Helvetica,sans-Serif\" font-size=\"14.00\">gini = 0.383</text>\r\n",
       "<text text-anchor=\"start\" x=\"744.5\" y=\"-379.8\" font-family=\"Helvetica,sans-Serif\" font-size=\"14.00\">samples = 314</text>\r\n",
       "<text text-anchor=\"start\" x=\"739\" y=\"-364.8\" font-family=\"Helvetica,sans-Serif\" font-size=\"14.00\">value = [81, 233]</text>\r\n",
       "<text text-anchor=\"start\" x=\"741\" y=\"-349.8\" font-family=\"Helvetica,sans-Serif\" font-size=\"14.00\">class = survived</text>\r\n",
       "</g>\r\n",
       "<!-- 0&#45;&gt;1 -->\r\n",
       "<g id=\"edge1\" class=\"edge\"><title>0&#45;&gt;1</title>\r\n",
       "<path fill=\"none\" stroke=\"black\" d=\"M975.903,-470.912C941.115,-454.566 898.245,-434.422 862.649,-417.697\"/>\r\n",
       "<polygon fill=\"black\" stroke=\"black\" points=\"863.831,-414.385 853.292,-413.3 860.854,-420.72 863.831,-414.385\"/>\r\n",
       "<text text-anchor=\"middle\" x=\"861.773\" y=\"-433.117\" font-family=\"Helvetica,sans-Serif\" font-size=\"14.00\">True</text>\r\n",
       "</g>\r\n",
       "<!-- 16 -->\r\n",
       "<g id=\"node17\" class=\"node\"><title>16</title>\r\n",
       "<path fill=\"#e58139\" fill-opacity=\"0.768627\" stroke=\"black\" d=\"M1348,-425C1348,-425 1242,-425 1242,-425 1236,-425 1230,-419 1230,-413 1230,-413 1230,-354 1230,-354 1230,-348 1236,-342 1242,-342 1242,-342 1348,-342 1348,-342 1354,-342 1360,-348 1360,-354 1360,-354 1360,-413 1360,-413 1360,-419 1354,-425 1348,-425\"/>\r\n",
       "<text text-anchor=\"start\" x=\"1258.5\" y=\"-409.8\" font-family=\"Helvetica,sans-Serif\" font-size=\"14.00\">Cabin ≤ 6.0</text>\r\n",
       "<text text-anchor=\"start\" x=\"1257.5\" y=\"-394.8\" font-family=\"Helvetica,sans-Serif\" font-size=\"14.00\">gini = 0.306</text>\r\n",
       "<text text-anchor=\"start\" x=\"1247.5\" y=\"-379.8\" font-family=\"Helvetica,sans-Serif\" font-size=\"14.00\">samples = 577</text>\r\n",
       "<text text-anchor=\"start\" x=\"1238\" y=\"-364.8\" font-family=\"Helvetica,sans-Serif\" font-size=\"14.00\">value = [468, 109]</text>\r\n",
       "<text text-anchor=\"start\" x=\"1254\" y=\"-349.8\" font-family=\"Helvetica,sans-Serif\" font-size=\"14.00\">class = dead</text>\r\n",
       "</g>\r\n",
       "<!-- 0&#45;&gt;16 -->\r\n",
       "<g id=\"edge16\" class=\"edge\"><title>0&#45;&gt;16</title>\r\n",
       "<path fill=\"none\" stroke=\"black\" d=\"M1106.08,-471.522C1140.89,-455.486 1183.92,-435.666 1220.12,-418.993\"/>\r\n",
       "<polygon fill=\"black\" stroke=\"black\" points=\"1222.03,-421.966 1229.65,-414.604 1219.1,-415.609 1222.03,-421.966\"/>\r\n",
       "<text text-anchor=\"middle\" x=\"1220.99\" y=\"-434.356\" font-family=\"Helvetica,sans-Serif\" font-size=\"14.00\">False</text>\r\n",
       "</g>\r\n",
       "<!-- 2 -->\r\n",
       "<g id=\"node3\" class=\"node\"><title>2</title>\r\n",
       "<path fill=\"#399de5\" fill-opacity=\"0.945098\" stroke=\"black\" d=\"M446,-306C446,-306 352,-306 352,-306 346,-306 340,-300 340,-294 340,-294 340,-235 340,-235 340,-229 346,-223 352,-223 352,-223 446,-223 446,-223 452,-223 458,-229 458,-235 458,-235 458,-294 458,-294 458,-300 452,-306 446,-306\"/>\r\n",
       "<text text-anchor=\"start\" x=\"366.5\" y=\"-290.8\" font-family=\"Helvetica,sans-Serif\" font-size=\"14.00\">Fare ≤ 2.5</text>\r\n",
       "<text text-anchor=\"start\" x=\"370\" y=\"-275.8\" font-family=\"Helvetica,sans-Serif\" font-size=\"14.00\">gini = 0.1</text>\r\n",
       "<text text-anchor=\"start\" x=\"351.5\" y=\"-260.8\" font-family=\"Helvetica,sans-Serif\" font-size=\"14.00\">samples = 170</text>\r\n",
       "<text text-anchor=\"start\" x=\"350.5\" y=\"-245.8\" font-family=\"Helvetica,sans-Serif\" font-size=\"14.00\">value = [9, 161]</text>\r\n",
       "<text text-anchor=\"start\" x=\"348\" y=\"-230.8\" font-family=\"Helvetica,sans-Serif\" font-size=\"14.00\">class = survived</text>\r\n",
       "</g>\r\n",
       "<!-- 1&#45;&gt;2 -->\r\n",
       "<g id=\"edge2\" class=\"edge\"><title>1&#45;&gt;2</title>\r\n",
       "<path fill=\"none\" stroke=\"black\" d=\"M730.594,-364.219C659.315,-342.998 542.07,-308.093 467.786,-285.978\"/>\r\n",
       "<polygon fill=\"black\" stroke=\"black\" points=\"468.632,-282.578 458.049,-283.079 466.634,-289.287 468.632,-282.578\"/>\r\n",
       "</g>\r\n",
       "<!-- 9 -->\r\n",
       "<g id=\"node10\" class=\"node\"><title>9</title>\r\n",
       "<path fill=\"none\" stroke=\"black\" d=\"M838.5,-306C838.5,-306 745.5,-306 745.5,-306 739.5,-306 733.5,-300 733.5,-294 733.5,-294 733.5,-235 733.5,-235 733.5,-229 739.5,-223 745.5,-223 745.5,-223 838.5,-223 838.5,-223 844.5,-223 850.5,-229 850.5,-235 850.5,-235 850.5,-294 850.5,-294 850.5,-300 844.5,-306 838.5,-306\"/>\r\n",
       "<text text-anchor=\"start\" x=\"741.5\" y=\"-290.8\" font-family=\"Helvetica,sans-Serif\" font-size=\"14.00\">Embarked ≤ 1.5</text>\r\n",
       "<text text-anchor=\"start\" x=\"763\" y=\"-275.8\" font-family=\"Helvetica,sans-Serif\" font-size=\"14.00\">gini = 0.5</text>\r\n",
       "<text text-anchor=\"start\" x=\"744.5\" y=\"-260.8\" font-family=\"Helvetica,sans-Serif\" font-size=\"14.00\">samples = 144</text>\r\n",
       "<text text-anchor=\"start\" x=\"743.5\" y=\"-245.8\" font-family=\"Helvetica,sans-Serif\" font-size=\"14.00\">value = [72, 72]</text>\r\n",
       "<text text-anchor=\"start\" x=\"751\" y=\"-230.8\" font-family=\"Helvetica,sans-Serif\" font-size=\"14.00\">class = dead</text>\r\n",
       "</g>\r\n",
       "<!-- 1&#45;&gt;9 -->\r\n",
       "<g id=\"edge9\" class=\"edge\"><title>1&#45;&gt;9</title>\r\n",
       "<path fill=\"none\" stroke=\"black\" d=\"M792,-341.907C792,-333.649 792,-324.864 792,-316.302\"/>\r\n",
       "<polygon fill=\"black\" stroke=\"black\" points=\"795.5,-316.021 792,-306.021 788.5,-316.021 795.5,-316.021\"/>\r\n",
       "</g>\r\n",
       "<!-- 3 -->\r\n",
       "<g id=\"node4\" class=\"node\"><title>3</title>\r\n",
       "<path fill=\"#399de5\" fill-opacity=\"0.898039\" stroke=\"black\" d=\"M242,-187C242,-187 148,-187 148,-187 142,-187 136,-181 136,-175 136,-175 136,-116 136,-116 136,-110 142,-104 148,-104 148,-104 242,-104 242,-104 248,-104 254,-110 254,-116 254,-116 254,-175 254,-175 254,-181 248,-187 242,-187\"/>\r\n",
       "<text text-anchor=\"start\" x=\"158.5\" y=\"-171.8\" font-family=\"Helvetica,sans-Serif\" font-size=\"14.00\">Cabin ≤ 2.5</text>\r\n",
       "<text text-anchor=\"start\" x=\"157.5\" y=\"-156.8\" font-family=\"Helvetica,sans-Serif\" font-size=\"14.00\">gini = 0.169</text>\r\n",
       "<text text-anchor=\"start\" x=\"151.5\" y=\"-141.8\" font-family=\"Helvetica,sans-Serif\" font-size=\"14.00\">samples = 75</text>\r\n",
       "<text text-anchor=\"start\" x=\"150.5\" y=\"-126.8\" font-family=\"Helvetica,sans-Serif\" font-size=\"14.00\">value = [7, 68]</text>\r\n",
       "<text text-anchor=\"start\" x=\"144\" y=\"-111.8\" font-family=\"Helvetica,sans-Serif\" font-size=\"14.00\">class = survived</text>\r\n",
       "</g>\r\n",
       "<!-- 2&#45;&gt;3 -->\r\n",
       "<g id=\"edge3\" class=\"edge\"><title>2&#45;&gt;3</title>\r\n",
       "<path fill=\"none\" stroke=\"black\" d=\"M339.995,-229.659C315.89,-215.834 287.863,-199.76 262.912,-185.449\"/>\r\n",
       "<polygon fill=\"black\" stroke=\"black\" points=\"264.642,-182.407 254.226,-180.468 261.159,-188.479 264.642,-182.407\"/>\r\n",
       "</g>\r\n",
       "<!-- 6 -->\r\n",
       "<g id=\"node7\" class=\"node\"><title>6</title>\r\n",
       "<path fill=\"#399de5\" fill-opacity=\"0.980392\" stroke=\"black\" d=\"M446,-187C446,-187 352,-187 352,-187 346,-187 340,-181 340,-175 340,-175 340,-116 340,-116 340,-110 346,-104 352,-104 352,-104 446,-104 446,-104 452,-104 458,-110 458,-116 458,-116 458,-175 458,-175 458,-181 452,-187 446,-187\"/>\r\n",
       "<text text-anchor=\"start\" x=\"362.5\" y=\"-171.8\" font-family=\"Helvetica,sans-Serif\" font-size=\"14.00\">Parch ≤ 1.5</text>\r\n",
       "<text text-anchor=\"start\" x=\"361.5\" y=\"-156.8\" font-family=\"Helvetica,sans-Serif\" font-size=\"14.00\">gini = 0.041</text>\r\n",
       "<text text-anchor=\"start\" x=\"355.5\" y=\"-141.8\" font-family=\"Helvetica,sans-Serif\" font-size=\"14.00\">samples = 95</text>\r\n",
       "<text text-anchor=\"start\" x=\"354.5\" y=\"-126.8\" font-family=\"Helvetica,sans-Serif\" font-size=\"14.00\">value = [2, 93]</text>\r\n",
       "<text text-anchor=\"start\" x=\"348\" y=\"-111.8\" font-family=\"Helvetica,sans-Serif\" font-size=\"14.00\">class = survived</text>\r\n",
       "</g>\r\n",
       "<!-- 2&#45;&gt;6 -->\r\n",
       "<g id=\"edge6\" class=\"edge\"><title>2&#45;&gt;6</title>\r\n",
       "<path fill=\"none\" stroke=\"black\" d=\"M399,-222.907C399,-214.649 399,-205.864 399,-197.302\"/>\r\n",
       "<polygon fill=\"black\" stroke=\"black\" points=\"402.5,-197.021 399,-187.021 395.5,-197.021 402.5,-197.021\"/>\r\n",
       "</g>\r\n",
       "<!-- 4 -->\r\n",
       "<g id=\"node5\" class=\"node\"><title>4</title>\r\n",
       "<path fill=\"#399de5\" fill-opacity=\"0.666667\" stroke=\"black\" d=\"M106,-68C106,-68 12,-68 12,-68 6,-68 0,-62 0,-56 0,-56 0,-12 0,-12 0,-6 6,-0 12,-0 12,-0 106,-0 106,-0 112,-0 118,-6 118,-12 118,-12 118,-56 118,-56 118,-62 112,-68 106,-68\"/>\r\n",
       "<text text-anchor=\"start\" x=\"21.5\" y=\"-52.8\" font-family=\"Helvetica,sans-Serif\" font-size=\"14.00\">gini = 0.375</text>\r\n",
       "<text text-anchor=\"start\" x=\"19.5\" y=\"-37.8\" font-family=\"Helvetica,sans-Serif\" font-size=\"14.00\">samples = 4</text>\r\n",
       "<text text-anchor=\"start\" x=\"18.5\" y=\"-22.8\" font-family=\"Helvetica,sans-Serif\" font-size=\"14.00\">value = [1, 3]</text>\r\n",
       "<text text-anchor=\"start\" x=\"8\" y=\"-7.8\" font-family=\"Helvetica,sans-Serif\" font-size=\"14.00\">class = survived</text>\r\n",
       "</g>\r\n",
       "<!-- 3&#45;&gt;4 -->\r\n",
       "<g id=\"edge4\" class=\"edge\"><title>3&#45;&gt;4</title>\r\n",
       "<path fill=\"none\" stroke=\"black\" d=\"M144.359,-103.726C132.577,-94.2406 120.051,-84.1551 108.327,-74.7159\"/>\r\n",
       "<polygon fill=\"black\" stroke=\"black\" points=\"110.343,-71.8448 100.358,-68.2996 105.953,-77.2972 110.343,-71.8448\"/>\r\n",
       "</g>\r\n",
       "<!-- 5 -->\r\n",
       "<g id=\"node6\" class=\"node\"><title>5</title>\r\n",
       "<path fill=\"#399de5\" fill-opacity=\"0.905882\" stroke=\"black\" d=\"M242,-68C242,-68 148,-68 148,-68 142,-68 136,-62 136,-56 136,-56 136,-12 136,-12 136,-6 142,-0 148,-0 148,-0 242,-0 242,-0 248,-0 254,-6 254,-12 254,-12 254,-56 254,-56 254,-62 248,-68 242,-68\"/>\r\n",
       "<text text-anchor=\"start\" x=\"157.5\" y=\"-52.8\" font-family=\"Helvetica,sans-Serif\" font-size=\"14.00\">gini = 0.155</text>\r\n",
       "<text text-anchor=\"start\" x=\"151.5\" y=\"-37.8\" font-family=\"Helvetica,sans-Serif\" font-size=\"14.00\">samples = 71</text>\r\n",
       "<text text-anchor=\"start\" x=\"150.5\" y=\"-22.8\" font-family=\"Helvetica,sans-Serif\" font-size=\"14.00\">value = [6, 65]</text>\r\n",
       "<text text-anchor=\"start\" x=\"144\" y=\"-7.8\" font-family=\"Helvetica,sans-Serif\" font-size=\"14.00\">class = survived</text>\r\n",
       "</g>\r\n",
       "<!-- 3&#45;&gt;5 -->\r\n",
       "<g id=\"edge5\" class=\"edge\"><title>3&#45;&gt;5</title>\r\n",
       "<path fill=\"none\" stroke=\"black\" d=\"M195,-103.726C195,-95.5175 195,-86.8595 195,-78.56\"/>\r\n",
       "<polygon fill=\"black\" stroke=\"black\" points=\"198.5,-78.2996 195,-68.2996 191.5,-78.2996 198.5,-78.2996\"/>\r\n",
       "</g>\r\n",
       "<!-- 7 -->\r\n",
       "<g id=\"node8\" class=\"node\"><title>7</title>\r\n",
       "<path fill=\"#399de5\" stroke=\"black\" d=\"M378,-68C378,-68 284,-68 284,-68 278,-68 272,-62 272,-56 272,-56 272,-12 272,-12 272,-6 278,-0 284,-0 284,-0 378,-0 378,-0 384,-0 390,-6 390,-12 390,-12 390,-56 390,-56 390,-62 384,-68 378,-68\"/>\r\n",
       "<text text-anchor=\"start\" x=\"302\" y=\"-52.8\" font-family=\"Helvetica,sans-Serif\" font-size=\"14.00\">gini = 0.0</text>\r\n",
       "<text text-anchor=\"start\" x=\"287.5\" y=\"-37.8\" font-family=\"Helvetica,sans-Serif\" font-size=\"14.00\">samples = 79</text>\r\n",
       "<text text-anchor=\"start\" x=\"286.5\" y=\"-22.8\" font-family=\"Helvetica,sans-Serif\" font-size=\"14.00\">value = [0, 79]</text>\r\n",
       "<text text-anchor=\"start\" x=\"280\" y=\"-7.8\" font-family=\"Helvetica,sans-Serif\" font-size=\"14.00\">class = survived</text>\r\n",
       "</g>\r\n",
       "<!-- 6&#45;&gt;7 -->\r\n",
       "<g id=\"edge7\" class=\"edge\"><title>6&#45;&gt;7</title>\r\n",
       "<path fill=\"none\" stroke=\"black\" d=\"M373.679,-103.726C368.242,-94.9703 362.487,-85.7032 357.023,-76.9051\"/>\r\n",
       "<polygon fill=\"black\" stroke=\"black\" points=\"359.928,-74.9484 351.679,-68.2996 353.981,-78.6413 359.928,-74.9484\"/>\r\n",
       "</g>\r\n",
       "<!-- 8 -->\r\n",
       "<g id=\"node9\" class=\"node\"><title>8</title>\r\n",
       "<path fill=\"#399de5\" fill-opacity=\"0.858824\" stroke=\"black\" d=\"M514,-68C514,-68 420,-68 420,-68 414,-68 408,-62 408,-56 408,-56 408,-12 408,-12 408,-6 414,-0 420,-0 420,-0 514,-0 514,-0 520,-0 526,-6 526,-12 526,-12 526,-56 526,-56 526,-62 520,-68 514,-68\"/>\r\n",
       "<text text-anchor=\"start\" x=\"429.5\" y=\"-52.8\" font-family=\"Helvetica,sans-Serif\" font-size=\"14.00\">gini = 0.219</text>\r\n",
       "<text text-anchor=\"start\" x=\"423.5\" y=\"-37.8\" font-family=\"Helvetica,sans-Serif\" font-size=\"14.00\">samples = 16</text>\r\n",
       "<text text-anchor=\"start\" x=\"422.5\" y=\"-22.8\" font-family=\"Helvetica,sans-Serif\" font-size=\"14.00\">value = [2, 14]</text>\r\n",
       "<text text-anchor=\"start\" x=\"416\" y=\"-7.8\" font-family=\"Helvetica,sans-Serif\" font-size=\"14.00\">class = survived</text>\r\n",
       "</g>\r\n",
       "<!-- 6&#45;&gt;8 -->\r\n",
       "<g id=\"edge8\" class=\"edge\"><title>6&#45;&gt;8</title>\r\n",
       "<path fill=\"none\" stroke=\"black\" d=\"M424.321,-103.726C429.758,-94.9703 435.513,-85.7032 440.977,-76.9051\"/>\r\n",
       "<polygon fill=\"black\" stroke=\"black\" points=\"444.019,-78.6413 446.321,-68.2996 438.072,-74.9484 444.019,-78.6413\"/>\r\n",
       "</g>\r\n",
       "<!-- 10 -->\r\n",
       "<g id=\"node11\" class=\"node\"><title>10</title>\r\n",
       "<path fill=\"#399de5\" fill-opacity=\"0.564706\" stroke=\"black\" d=\"M772,-187C772,-187 678,-187 678,-187 672,-187 666,-181 666,-175 666,-175 666,-116 666,-116 666,-110 672,-104 678,-104 678,-104 772,-104 772,-104 778,-104 784,-110 784,-116 784,-116 784,-175 784,-175 784,-181 778,-187 772,-187\"/>\r\n",
       "<text text-anchor=\"start\" x=\"694\" y=\"-171.8\" font-family=\"Helvetica,sans-Serif\" font-size=\"14.00\">Age ≤ 0.5</text>\r\n",
       "<text text-anchor=\"start\" x=\"687.5\" y=\"-156.8\" font-family=\"Helvetica,sans-Serif\" font-size=\"14.00\">gini = 0.423</text>\r\n",
       "<text text-anchor=\"start\" x=\"681.5\" y=\"-141.8\" font-family=\"Helvetica,sans-Serif\" font-size=\"14.00\">samples = 56</text>\r\n",
       "<text text-anchor=\"start\" x=\"676.5\" y=\"-126.8\" font-family=\"Helvetica,sans-Serif\" font-size=\"14.00\">value = [17, 39]</text>\r\n",
       "<text text-anchor=\"start\" x=\"674\" y=\"-111.8\" font-family=\"Helvetica,sans-Serif\" font-size=\"14.00\">class = survived</text>\r\n",
       "</g>\r\n",
       "<!-- 9&#45;&gt;10 -->\r\n",
       "<g id=\"edge10\" class=\"edge\"><title>9&#45;&gt;10</title>\r\n",
       "<path fill=\"none\" stroke=\"black\" d=\"M768.755,-222.907C763.766,-214.195 758.441,-204.897 753.285,-195.893\"/>\r\n",
       "<polygon fill=\"black\" stroke=\"black\" points=\"756.211,-193.959 748.204,-187.021 750.136,-197.438 756.211,-193.959\"/>\r\n",
       "</g>\r\n",
       "<!-- 13 -->\r\n",
       "<g id=\"node14\" class=\"node\"><title>13</title>\r\n",
       "<path fill=\"#e58139\" fill-opacity=\"0.400000\" stroke=\"black\" d=\"M903.5,-187C903.5,-187 814.5,-187 814.5,-187 808.5,-187 802.5,-181 802.5,-175 802.5,-175 802.5,-116 802.5,-116 802.5,-110 808.5,-104 814.5,-104 814.5,-104 903.5,-104 903.5,-104 909.5,-104 915.5,-110 915.5,-116 915.5,-116 915.5,-175 915.5,-175 915.5,-181 909.5,-187 903.5,-187\"/>\r\n",
       "<text text-anchor=\"start\" x=\"821.5\" y=\"-171.8\" font-family=\"Helvetica,sans-Serif\" font-size=\"14.00\">SibSp ≤ 1.5</text>\r\n",
       "<text text-anchor=\"start\" x=\"821.5\" y=\"-156.8\" font-family=\"Helvetica,sans-Serif\" font-size=\"14.00\">gini = 0.469</text>\r\n",
       "<text text-anchor=\"start\" x=\"815.5\" y=\"-141.8\" font-family=\"Helvetica,sans-Serif\" font-size=\"14.00\">samples = 88</text>\r\n",
       "<text text-anchor=\"start\" x=\"810.5\" y=\"-126.8\" font-family=\"Helvetica,sans-Serif\" font-size=\"14.00\">value = [55, 33]</text>\r\n",
       "<text text-anchor=\"start\" x=\"818\" y=\"-111.8\" font-family=\"Helvetica,sans-Serif\" font-size=\"14.00\">class = dead</text>\r\n",
       "</g>\r\n",
       "<!-- 9&#45;&gt;13 -->\r\n",
       "<g id=\"edge13\" class=\"edge\"><title>9&#45;&gt;13</title>\r\n",
       "<path fill=\"none\" stroke=\"black\" d=\"M815.245,-222.907C820.234,-214.195 825.559,-204.897 830.715,-195.893\"/>\r\n",
       "<polygon fill=\"black\" stroke=\"black\" points=\"833.864,-197.438 835.796,-187.021 827.789,-193.959 833.864,-197.438\"/>\r\n",
       "</g>\r\n",
       "<!-- 11 -->\r\n",
       "<g id=\"node12\" class=\"node\"><title>11</title>\r\n",
       "<path fill=\"#e58139\" fill-opacity=\"0.333333\" stroke=\"black\" d=\"M635.5,-68C635.5,-68 556.5,-68 556.5,-68 550.5,-68 544.5,-62 544.5,-56 544.5,-56 544.5,-12 544.5,-12 544.5,-6 550.5,-0 556.5,-0 556.5,-0 635.5,-0 635.5,-0 641.5,-0 647.5,-6 647.5,-12 647.5,-12 647.5,-56 647.5,-56 647.5,-62 641.5,-68 635.5,-68\"/>\r\n",
       "<text text-anchor=\"start\" x=\"562.5\" y=\"-52.8\" font-family=\"Helvetica,sans-Serif\" font-size=\"14.00\">gini = 0.48</text>\r\n",
       "<text text-anchor=\"start\" x=\"552.5\" y=\"-37.8\" font-family=\"Helvetica,sans-Serif\" font-size=\"14.00\">samples = 10</text>\r\n",
       "<text text-anchor=\"start\" x=\"555.5\" y=\"-22.8\" font-family=\"Helvetica,sans-Serif\" font-size=\"14.00\">value = [6, 4]</text>\r\n",
       "<text text-anchor=\"start\" x=\"555\" y=\"-7.8\" font-family=\"Helvetica,sans-Serif\" font-size=\"14.00\">class = dead</text>\r\n",
       "</g>\r\n",
       "<!-- 10&#45;&gt;11 -->\r\n",
       "<g id=\"edge11\" class=\"edge\"><title>10&#45;&gt;11</title>\r\n",
       "<path fill=\"none\" stroke=\"black\" d=\"M676.965,-103.726C665.898,-94.3318 654.137,-84.349 643.11,-74.9883\"/>\r\n",
       "<polygon fill=\"black\" stroke=\"black\" points=\"645.118,-72.1026 635.23,-68.2996 640.588,-77.4393 645.118,-72.1026\"/>\r\n",
       "</g>\r\n",
       "<!-- 12 -->\r\n",
       "<g id=\"node13\" class=\"node\"><title>12</title>\r\n",
       "<path fill=\"#399de5\" fill-opacity=\"0.686275\" stroke=\"black\" d=\"M772,-68C772,-68 678,-68 678,-68 672,-68 666,-62 666,-56 666,-56 666,-12 666,-12 666,-6 672,-0 678,-0 678,-0 772,-0 772,-0 778,-0 784,-6 784,-12 784,-12 784,-56 784,-56 784,-62 778,-68 772,-68\"/>\r\n",
       "<text text-anchor=\"start\" x=\"687.5\" y=\"-52.8\" font-family=\"Helvetica,sans-Serif\" font-size=\"14.00\">gini = 0.364</text>\r\n",
       "<text text-anchor=\"start\" x=\"681.5\" y=\"-37.8\" font-family=\"Helvetica,sans-Serif\" font-size=\"14.00\">samples = 46</text>\r\n",
       "<text text-anchor=\"start\" x=\"676.5\" y=\"-22.8\" font-family=\"Helvetica,sans-Serif\" font-size=\"14.00\">value = [11, 35]</text>\r\n",
       "<text text-anchor=\"start\" x=\"674\" y=\"-7.8\" font-family=\"Helvetica,sans-Serif\" font-size=\"14.00\">class = survived</text>\r\n",
       "</g>\r\n",
       "<!-- 10&#45;&gt;12 -->\r\n",
       "<g id=\"edge12\" class=\"edge\"><title>10&#45;&gt;12</title>\r\n",
       "<path fill=\"none\" stroke=\"black\" d=\"M725,-103.726C725,-95.5175 725,-86.8595 725,-78.56\"/>\r\n",
       "<polygon fill=\"black\" stroke=\"black\" points=\"728.5,-78.2996 725,-68.2996 721.5,-78.2996 728.5,-78.2996\"/>\r\n",
       "</g>\r\n",
       "<!-- 14 -->\r\n",
       "<g id=\"node15\" class=\"node\"><title>14</title>\r\n",
       "<path fill=\"#e58139\" fill-opacity=\"0.188235\" stroke=\"black\" d=\"M903.5,-68C903.5,-68 814.5,-68 814.5,-68 808.5,-68 802.5,-62 802.5,-56 802.5,-56 802.5,-12 802.5,-12 802.5,-6 808.5,-0 814.5,-0 814.5,-0 903.5,-0 903.5,-0 909.5,-0 915.5,-6 915.5,-12 915.5,-12 915.5,-56 915.5,-56 915.5,-62 909.5,-68 903.5,-68\"/>\r\n",
       "<text text-anchor=\"start\" x=\"821.5\" y=\"-52.8\" font-family=\"Helvetica,sans-Serif\" font-size=\"14.00\">gini = 0.495</text>\r\n",
       "<text text-anchor=\"start\" x=\"815.5\" y=\"-37.8\" font-family=\"Helvetica,sans-Serif\" font-size=\"14.00\">samples = 67</text>\r\n",
       "<text text-anchor=\"start\" x=\"810.5\" y=\"-22.8\" font-family=\"Helvetica,sans-Serif\" font-size=\"14.00\">value = [37, 30]</text>\r\n",
       "<text text-anchor=\"start\" x=\"818\" y=\"-7.8\" font-family=\"Helvetica,sans-Serif\" font-size=\"14.00\">class = dead</text>\r\n",
       "</g>\r\n",
       "<!-- 13&#45;&gt;14 -->\r\n",
       "<g id=\"edge14\" class=\"edge\"><title>13&#45;&gt;14</title>\r\n",
       "<path fill=\"none\" stroke=\"black\" d=\"M859,-103.726C859,-95.5175 859,-86.8595 859,-78.56\"/>\r\n",
       "<polygon fill=\"black\" stroke=\"black\" points=\"862.5,-78.2996 859,-68.2996 855.5,-78.2996 862.5,-78.2996\"/>\r\n",
       "</g>\r\n",
       "<!-- 15 -->\r\n",
       "<g id=\"node16\" class=\"node\"><title>15</title>\r\n",
       "<path fill=\"#e58139\" fill-opacity=\"0.831373\" stroke=\"black\" d=\"M1026.5,-68C1026.5,-68 945.5,-68 945.5,-68 939.5,-68 933.5,-62 933.5,-56 933.5,-56 933.5,-12 933.5,-12 933.5,-6 939.5,-0 945.5,-0 945.5,-0 1026.5,-0 1026.5,-0 1032.5,-0 1038.5,-6 1038.5,-12 1038.5,-12 1038.5,-56 1038.5,-56 1038.5,-62 1032.5,-68 1026.5,-68\"/>\r\n",
       "<text text-anchor=\"start\" x=\"948.5\" y=\"-52.8\" font-family=\"Helvetica,sans-Serif\" font-size=\"14.00\">gini = 0.245</text>\r\n",
       "<text text-anchor=\"start\" x=\"942.5\" y=\"-37.8\" font-family=\"Helvetica,sans-Serif\" font-size=\"14.00\">samples = 21</text>\r\n",
       "<text text-anchor=\"start\" x=\"941.5\" y=\"-22.8\" font-family=\"Helvetica,sans-Serif\" font-size=\"14.00\">value = [18, 3]</text>\r\n",
       "<text text-anchor=\"start\" x=\"945\" y=\"-7.8\" font-family=\"Helvetica,sans-Serif\" font-size=\"14.00\">class = dead</text>\r\n",
       "</g>\r\n",
       "<!-- 13&#45;&gt;15 -->\r\n",
       "<g id=\"edge15\" class=\"edge\"><title>13&#45;&gt;15</title>\r\n",
       "<path fill=\"none\" stroke=\"black\" d=\"M906.29,-103.726C917.186,-94.3318 928.764,-84.349 939.621,-74.9883\"/>\r\n",
       "<polygon fill=\"black\" stroke=\"black\" points=\"942.09,-77.4804 947.379,-68.2996 937.519,-72.1789 942.09,-77.4804\"/>\r\n",
       "</g>\r\n",
       "<!-- 17 -->\r\n",
       "<g id=\"node18\" class=\"node\"><title>17</title>\r\n",
       "<path fill=\"#e58139\" fill-opacity=\"0.262745\" stroke=\"black\" d=\"M1339.5,-306C1339.5,-306 1250.5,-306 1250.5,-306 1244.5,-306 1238.5,-300 1238.5,-294 1238.5,-294 1238.5,-235 1238.5,-235 1238.5,-229 1244.5,-223 1250.5,-223 1250.5,-223 1339.5,-223 1339.5,-223 1345.5,-223 1351.5,-229 1351.5,-235 1351.5,-235 1351.5,-294 1351.5,-294 1351.5,-300 1345.5,-306 1339.5,-306\"/>\r\n",
       "<text text-anchor=\"start\" x=\"1259.5\" y=\"-290.8\" font-family=\"Helvetica,sans-Serif\" font-size=\"14.00\">Title ≤ 11.0</text>\r\n",
       "<text text-anchor=\"start\" x=\"1257.5\" y=\"-275.8\" font-family=\"Helvetica,sans-Serif\" font-size=\"14.00\">gini = 0.489</text>\r\n",
       "<text text-anchor=\"start\" x=\"1247.5\" y=\"-260.8\" font-family=\"Helvetica,sans-Serif\" font-size=\"14.00\">samples = 106</text>\r\n",
       "<text text-anchor=\"start\" x=\"1246.5\" y=\"-245.8\" font-family=\"Helvetica,sans-Serif\" font-size=\"14.00\">value = [61, 45]</text>\r\n",
       "<text text-anchor=\"start\" x=\"1254\" y=\"-230.8\" font-family=\"Helvetica,sans-Serif\" font-size=\"14.00\">class = dead</text>\r\n",
       "</g>\r\n",
       "<!-- 16&#45;&gt;17 -->\r\n",
       "<g id=\"edge17\" class=\"edge\"><title>16&#45;&gt;17</title>\r\n",
       "<path fill=\"none\" stroke=\"black\" d=\"M1295,-341.907C1295,-333.649 1295,-324.864 1295,-316.302\"/>\r\n",
       "<polygon fill=\"black\" stroke=\"black\" points=\"1298.5,-316.021 1295,-306.021 1291.5,-316.021 1298.5,-316.021\"/>\r\n",
       "</g>\r\n",
       "<!-- 24 -->\r\n",
       "<g id=\"node25\" class=\"node\"><title>24</title>\r\n",
       "<path fill=\"#e58139\" fill-opacity=\"0.843137\" stroke=\"black\" d=\"M1723,-306C1723,-306 1625,-306 1625,-306 1619,-306 1613,-300 1613,-294 1613,-294 1613,-235 1613,-235 1613,-229 1619,-223 1625,-223 1625,-223 1723,-223 1723,-223 1729,-223 1735,-229 1735,-235 1735,-235 1735,-294 1735,-294 1735,-300 1729,-306 1723,-306\"/>\r\n",
       "<text text-anchor=\"start\" x=\"1638.5\" y=\"-290.8\" font-family=\"Helvetica,sans-Serif\" font-size=\"14.00\">Title ≤ 11.0</text>\r\n",
       "<text text-anchor=\"start\" x=\"1636.5\" y=\"-275.8\" font-family=\"Helvetica,sans-Serif\" font-size=\"14.00\">gini = 0.235</text>\r\n",
       "<text text-anchor=\"start\" x=\"1626.5\" y=\"-260.8\" font-family=\"Helvetica,sans-Serif\" font-size=\"14.00\">samples = 471</text>\r\n",
       "<text text-anchor=\"start\" x=\"1621\" y=\"-245.8\" font-family=\"Helvetica,sans-Serif\" font-size=\"14.00\">value = [407, 64]</text>\r\n",
       "<text text-anchor=\"start\" x=\"1633\" y=\"-230.8\" font-family=\"Helvetica,sans-Serif\" font-size=\"14.00\">class = dead</text>\r\n",
       "</g>\r\n",
       "<!-- 16&#45;&gt;24 -->\r\n",
       "<g id=\"edge24\" class=\"edge\"><title>16&#45;&gt;24</title>\r\n",
       "<path fill=\"none\" stroke=\"black\" d=\"M1360.15,-362.387C1427.87,-341.483 1533.51,-308.87 1603.24,-287.345\"/>\r\n",
       "<polygon fill=\"black\" stroke=\"black\" points=\"1604.31,-290.678 1612.83,-284.384 1602.24,-283.989 1604.31,-290.678\"/>\r\n",
       "</g>\r\n",
       "<!-- 18 -->\r\n",
       "<g id=\"node19\" class=\"node\"><title>18</title>\r\n",
       "<path fill=\"#399de5\" fill-opacity=\"0.701961\" stroke=\"black\" d=\"M1275,-187C1275,-187 1181,-187 1181,-187 1175,-187 1169,-181 1169,-175 1169,-175 1169,-116 1169,-116 1169,-110 1175,-104 1181,-104 1181,-104 1275,-104 1275,-104 1281,-104 1287,-110 1287,-116 1287,-116 1287,-175 1287,-175 1287,-181 1281,-187 1275,-187\"/>\r\n",
       "<text text-anchor=\"start\" x=\"1196.5\" y=\"-171.8\" font-family=\"Helvetica,sans-Serif\" font-size=\"14.00\">Title ≤ 8.5</text>\r\n",
       "<text text-anchor=\"start\" x=\"1190.5\" y=\"-156.8\" font-family=\"Helvetica,sans-Serif\" font-size=\"14.00\">gini = 0.355</text>\r\n",
       "<text text-anchor=\"start\" x=\"1184.5\" y=\"-141.8\" font-family=\"Helvetica,sans-Serif\" font-size=\"14.00\">samples = 13</text>\r\n",
       "<text text-anchor=\"start\" x=\"1183.5\" y=\"-126.8\" font-family=\"Helvetica,sans-Serif\" font-size=\"14.00\">value = [3, 10]</text>\r\n",
       "<text text-anchor=\"start\" x=\"1177\" y=\"-111.8\" font-family=\"Helvetica,sans-Serif\" font-size=\"14.00\">class = survived</text>\r\n",
       "</g>\r\n",
       "<!-- 17&#45;&gt;18 -->\r\n",
       "<g id=\"edge18\" class=\"edge\"><title>17&#45;&gt;18</title>\r\n",
       "<path fill=\"none\" stroke=\"black\" d=\"M1271.75,-222.907C1266.77,-214.195 1261.44,-204.897 1256.29,-195.893\"/>\r\n",
       "<polygon fill=\"black\" stroke=\"black\" points=\"1259.21,-193.959 1251.2,-187.021 1253.14,-197.438 1259.21,-193.959\"/>\r\n",
       "</g>\r\n",
       "<!-- 21 -->\r\n",
       "<g id=\"node22\" class=\"node\"><title>21</title>\r\n",
       "<path fill=\"#e58139\" fill-opacity=\"0.396078\" stroke=\"black\" d=\"M1406.5,-187C1406.5,-187 1317.5,-187 1317.5,-187 1311.5,-187 1305.5,-181 1305.5,-175 1305.5,-175 1305.5,-116 1305.5,-116 1305.5,-110 1311.5,-104 1317.5,-104 1317.5,-104 1406.5,-104 1406.5,-104 1412.5,-104 1418.5,-110 1418.5,-116 1418.5,-116 1418.5,-175 1418.5,-175 1418.5,-181 1412.5,-187 1406.5,-187\"/>\r\n",
       "<text text-anchor=\"start\" x=\"1329.5\" y=\"-171.8\" font-family=\"Helvetica,sans-Serif\" font-size=\"14.00\">Fare ≤ 0.5</text>\r\n",
       "<text text-anchor=\"start\" x=\"1324.5\" y=\"-156.8\" font-family=\"Helvetica,sans-Serif\" font-size=\"14.00\">gini = 0.469</text>\r\n",
       "<text text-anchor=\"start\" x=\"1318.5\" y=\"-141.8\" font-family=\"Helvetica,sans-Serif\" font-size=\"14.00\">samples = 93</text>\r\n",
       "<text text-anchor=\"start\" x=\"1313.5\" y=\"-126.8\" font-family=\"Helvetica,sans-Serif\" font-size=\"14.00\">value = [58, 35]</text>\r\n",
       "<text text-anchor=\"start\" x=\"1321\" y=\"-111.8\" font-family=\"Helvetica,sans-Serif\" font-size=\"14.00\">class = dead</text>\r\n",
       "</g>\r\n",
       "<!-- 17&#45;&gt;21 -->\r\n",
       "<g id=\"edge21\" class=\"edge\"><title>17&#45;&gt;21</title>\r\n",
       "<path fill=\"none\" stroke=\"black\" d=\"M1318.25,-222.907C1323.23,-214.195 1328.56,-204.897 1333.71,-195.893\"/>\r\n",
       "<polygon fill=\"black\" stroke=\"black\" points=\"1336.86,-197.438 1338.8,-187.021 1330.79,-193.959 1336.86,-197.438\"/>\r\n",
       "</g>\r\n",
       "<!-- 19 -->\r\n",
       "<g id=\"node20\" class=\"node\"><title>19</title>\r\n",
       "<path fill=\"none\" stroke=\"black\" d=\"M1143,-68C1143,-68 1069,-68 1069,-68 1063,-68 1057,-62 1057,-56 1057,-56 1057,-12 1057,-12 1057,-6 1063,-0 1069,-0 1069,-0 1143,-0 1143,-0 1149,-0 1155,-6 1155,-12 1155,-12 1155,-56 1155,-56 1155,-62 1149,-68 1143,-68\"/>\r\n",
       "<text text-anchor=\"start\" x=\"1077\" y=\"-52.8\" font-family=\"Helvetica,sans-Serif\" font-size=\"14.00\">gini = 0.5</text>\r\n",
       "<text text-anchor=\"start\" x=\"1066.5\" y=\"-37.8\" font-family=\"Helvetica,sans-Serif\" font-size=\"14.00\">samples = 6</text>\r\n",
       "<text text-anchor=\"start\" x=\"1065.5\" y=\"-22.8\" font-family=\"Helvetica,sans-Serif\" font-size=\"14.00\">value = [3, 3]</text>\r\n",
       "<text text-anchor=\"start\" x=\"1065\" y=\"-7.8\" font-family=\"Helvetica,sans-Serif\" font-size=\"14.00\">class = dead</text>\r\n",
       "</g>\r\n",
       "<!-- 18&#45;&gt;19 -->\r\n",
       "<g id=\"edge19\" class=\"edge\"><title>18&#45;&gt;19</title>\r\n",
       "<path fill=\"none\" stroke=\"black\" d=\"M1182.57,-103.726C1172.1,-94.3318 1160.98,-84.349 1150.55,-74.9883\"/>\r\n",
       "<polygon fill=\"black\" stroke=\"black\" points=\"1152.88,-72.3744 1143.1,-68.2996 1148.21,-77.5839 1152.88,-72.3744\"/>\r\n",
       "</g>\r\n",
       "<!-- 20 -->\r\n",
       "<g id=\"node21\" class=\"node\"><title>20</title>\r\n",
       "<path fill=\"#399de5\" stroke=\"black\" d=\"M1279,-68C1279,-68 1185,-68 1185,-68 1179,-68 1173,-62 1173,-56 1173,-56 1173,-12 1173,-12 1173,-6 1179,-0 1185,-0 1185,-0 1279,-0 1279,-0 1285,-0 1291,-6 1291,-12 1291,-12 1291,-56 1291,-56 1291,-62 1285,-68 1279,-68\"/>\r\n",
       "<text text-anchor=\"start\" x=\"1203\" y=\"-52.8\" font-family=\"Helvetica,sans-Serif\" font-size=\"14.00\">gini = 0.0</text>\r\n",
       "<text text-anchor=\"start\" x=\"1192.5\" y=\"-37.8\" font-family=\"Helvetica,sans-Serif\" font-size=\"14.00\">samples = 7</text>\r\n",
       "<text text-anchor=\"start\" x=\"1191.5\" y=\"-22.8\" font-family=\"Helvetica,sans-Serif\" font-size=\"14.00\">value = [0, 7]</text>\r\n",
       "<text text-anchor=\"start\" x=\"1181\" y=\"-7.8\" font-family=\"Helvetica,sans-Serif\" font-size=\"14.00\">class = survived</text>\r\n",
       "</g>\r\n",
       "<!-- 18&#45;&gt;20 -->\r\n",
       "<g id=\"edge20\" class=\"edge\"><title>18&#45;&gt;20</title>\r\n",
       "<path fill=\"none\" stroke=\"black\" d=\"M1229.49,-103.726C1229.79,-95.5175 1230.11,-86.8595 1230.41,-78.56\"/>\r\n",
       "<polygon fill=\"black\" stroke=\"black\" points=\"1233.92,-78.4207 1230.78,-68.2996 1226.92,-78.1651 1233.92,-78.4207\"/>\r\n",
       "</g>\r\n",
       "<!-- 22 -->\r\n",
       "<g id=\"node23\" class=\"node\"><title>22</title>\r\n",
       "<path fill=\"#e58139\" stroke=\"black\" d=\"M1395,-68C1395,-68 1321,-68 1321,-68 1315,-68 1309,-62 1309,-56 1309,-56 1309,-12 1309,-12 1309,-6 1315,-0 1321,-0 1321,-0 1395,-0 1395,-0 1401,-0 1407,-6 1407,-12 1407,-12 1407,-56 1407,-56 1407,-62 1401,-68 1395,-68\"/>\r\n",
       "<text text-anchor=\"start\" x=\"1329\" y=\"-52.8\" font-family=\"Helvetica,sans-Serif\" font-size=\"14.00\">gini = 0.0</text>\r\n",
       "<text text-anchor=\"start\" x=\"1318.5\" y=\"-37.8\" font-family=\"Helvetica,sans-Serif\" font-size=\"14.00\">samples = 5</text>\r\n",
       "<text text-anchor=\"start\" x=\"1317.5\" y=\"-22.8\" font-family=\"Helvetica,sans-Serif\" font-size=\"14.00\">value = [5, 0]</text>\r\n",
       "<text text-anchor=\"start\" x=\"1317\" y=\"-7.8\" font-family=\"Helvetica,sans-Serif\" font-size=\"14.00\">class = dead</text>\r\n",
       "</g>\r\n",
       "<!-- 21&#45;&gt;22 -->\r\n",
       "<g id=\"edge22\" class=\"edge\"><title>21&#45;&gt;22</title>\r\n",
       "<path fill=\"none\" stroke=\"black\" d=\"M1360.51,-103.726C1360.21,-95.5175 1359.89,-86.8595 1359.59,-78.56\"/>\r\n",
       "<polygon fill=\"black\" stroke=\"black\" points=\"1363.08,-78.1651 1359.22,-68.2996 1356.08,-78.4207 1363.08,-78.1651\"/>\r\n",
       "</g>\r\n",
       "<!-- 23 -->\r\n",
       "<g id=\"node24\" class=\"node\"><title>23</title>\r\n",
       "<path fill=\"#e58139\" fill-opacity=\"0.341176\" stroke=\"black\" d=\"M1526.5,-68C1526.5,-68 1437.5,-68 1437.5,-68 1431.5,-68 1425.5,-62 1425.5,-56 1425.5,-56 1425.5,-12 1425.5,-12 1425.5,-6 1431.5,-0 1437.5,-0 1437.5,-0 1526.5,-0 1526.5,-0 1532.5,-0 1538.5,-6 1538.5,-12 1538.5,-12 1538.5,-56 1538.5,-56 1538.5,-62 1532.5,-68 1526.5,-68\"/>\r\n",
       "<text text-anchor=\"start\" x=\"1444.5\" y=\"-52.8\" font-family=\"Helvetica,sans-Serif\" font-size=\"14.00\">gini = 0.479</text>\r\n",
       "<text text-anchor=\"start\" x=\"1438.5\" y=\"-37.8\" font-family=\"Helvetica,sans-Serif\" font-size=\"14.00\">samples = 88</text>\r\n",
       "<text text-anchor=\"start\" x=\"1433.5\" y=\"-22.8\" font-family=\"Helvetica,sans-Serif\" font-size=\"14.00\">value = [53, 35]</text>\r\n",
       "<text text-anchor=\"start\" x=\"1441\" y=\"-7.8\" font-family=\"Helvetica,sans-Serif\" font-size=\"14.00\">class = dead</text>\r\n",
       "</g>\r\n",
       "<!-- 21&#45;&gt;23 -->\r\n",
       "<g id=\"edge23\" class=\"edge\"><title>21&#45;&gt;23</title>\r\n",
       "<path fill=\"none\" stroke=\"black\" d=\"M1406.68,-103.726C1416.88,-94.423 1427.71,-84.5428 1437.88,-75.2612\"/>\r\n",
       "<polygon fill=\"black\" stroke=\"black\" points=\"1440.48,-77.6255 1445.51,-68.2996 1435.76,-72.4547 1440.48,-77.6255\"/>\r\n",
       "</g>\r\n",
       "<!-- 25 -->\r\n",
       "<g id=\"node26\" class=\"node\"><title>25</title>\r\n",
       "<path fill=\"#e58139\" fill-opacity=\"0.262745\" stroke=\"black\" d=\"M1718.5,-187C1718.5,-187 1629.5,-187 1629.5,-187 1623.5,-187 1617.5,-181 1617.5,-175 1617.5,-175 1617.5,-116 1617.5,-116 1617.5,-110 1623.5,-104 1629.5,-104 1629.5,-104 1718.5,-104 1718.5,-104 1724.5,-104 1730.5,-110 1730.5,-116 1730.5,-116 1730.5,-175 1730.5,-175 1730.5,-181 1724.5,-187 1718.5,-187\"/>\r\n",
       "<text text-anchor=\"start\" x=\"1636.5\" y=\"-171.8\" font-family=\"Helvetica,sans-Serif\" font-size=\"14.00\">SibSp ≤ 2.5</text>\r\n",
       "<text text-anchor=\"start\" x=\"1636.5\" y=\"-156.8\" font-family=\"Helvetica,sans-Serif\" font-size=\"14.00\">gini = 0.489</text>\r\n",
       "<text text-anchor=\"start\" x=\"1630.5\" y=\"-141.8\" font-family=\"Helvetica,sans-Serif\" font-size=\"14.00\">samples = 40</text>\r\n",
       "<text text-anchor=\"start\" x=\"1625.5\" y=\"-126.8\" font-family=\"Helvetica,sans-Serif\" font-size=\"14.00\">value = [23, 17]</text>\r\n",
       "<text text-anchor=\"start\" x=\"1633\" y=\"-111.8\" font-family=\"Helvetica,sans-Serif\" font-size=\"14.00\">class = dead</text>\r\n",
       "</g>\r\n",
       "<!-- 24&#45;&gt;25 -->\r\n",
       "<g id=\"edge25\" class=\"edge\"><title>24&#45;&gt;25</title>\r\n",
       "<path fill=\"none\" stroke=\"black\" d=\"M1674,-222.907C1674,-214.649 1674,-205.864 1674,-197.302\"/>\r\n",
       "<polygon fill=\"black\" stroke=\"black\" points=\"1677.5,-197.021 1674,-187.021 1670.5,-197.021 1677.5,-197.021\"/>\r\n",
       "</g>\r\n",
       "<!-- 28 -->\r\n",
       "<g id=\"node29\" class=\"node\"><title>28</title>\r\n",
       "<path fill=\"#e58139\" fill-opacity=\"0.878431\" stroke=\"black\" d=\"M1918,-187C1918,-187 1820,-187 1820,-187 1814,-187 1808,-181 1808,-175 1808,-175 1808,-116 1808,-116 1808,-110 1814,-104 1820,-104 1820,-104 1918,-104 1918,-104 1924,-104 1930,-110 1930,-116 1930,-116 1930,-175 1930,-175 1930,-181 1924,-187 1918,-187\"/>\r\n",
       "<text text-anchor=\"start\" x=\"1829.5\" y=\"-171.8\" font-family=\"Helvetica,sans-Serif\" font-size=\"14.00\">Pclass ≤ 1.5</text>\r\n",
       "<text text-anchor=\"start\" x=\"1831.5\" y=\"-156.8\" font-family=\"Helvetica,sans-Serif\" font-size=\"14.00\">gini = 0.194</text>\r\n",
       "<text text-anchor=\"start\" x=\"1821.5\" y=\"-141.8\" font-family=\"Helvetica,sans-Serif\" font-size=\"14.00\">samples = 431</text>\r\n",
       "<text text-anchor=\"start\" x=\"1816\" y=\"-126.8\" font-family=\"Helvetica,sans-Serif\" font-size=\"14.00\">value = [384, 47]</text>\r\n",
       "<text text-anchor=\"start\" x=\"1828\" y=\"-111.8\" font-family=\"Helvetica,sans-Serif\" font-size=\"14.00\">class = dead</text>\r\n",
       "</g>\r\n",
       "<!-- 24&#45;&gt;28 -->\r\n",
       "<g id=\"edge28\" class=\"edge\"><title>24&#45;&gt;28</title>\r\n",
       "<path fill=\"none\" stroke=\"black\" d=\"M1735.16,-226.801C1755.39,-214.663 1778.06,-201.064 1798.91,-188.556\"/>\r\n",
       "<polygon fill=\"black\" stroke=\"black\" points=\"1800.94,-191.416 1807.72,-183.269 1797.34,-185.413 1800.94,-191.416\"/>\r\n",
       "</g>\r\n",
       "<!-- 26 -->\r\n",
       "<g id=\"node27\" class=\"node\"><title>26</title>\r\n",
       "<path fill=\"#399de5\" fill-opacity=\"0.623529\" stroke=\"black\" d=\"M1663,-68C1663,-68 1569,-68 1569,-68 1563,-68 1557,-62 1557,-56 1557,-56 1557,-12 1557,-12 1557,-6 1563,-0 1569,-0 1569,-0 1663,-0 1663,-0 1669,-0 1675,-6 1675,-12 1675,-12 1675,-56 1675,-56 1675,-62 1669,-68 1663,-68\"/>\r\n",
       "<text text-anchor=\"start\" x=\"1578.5\" y=\"-52.8\" font-family=\"Helvetica,sans-Serif\" font-size=\"14.00\">gini = 0.397</text>\r\n",
       "<text text-anchor=\"start\" x=\"1572.5\" y=\"-37.8\" font-family=\"Helvetica,sans-Serif\" font-size=\"14.00\">samples = 22</text>\r\n",
       "<text text-anchor=\"start\" x=\"1571.5\" y=\"-22.8\" font-family=\"Helvetica,sans-Serif\" font-size=\"14.00\">value = [6, 16]</text>\r\n",
       "<text text-anchor=\"start\" x=\"1565\" y=\"-7.8\" font-family=\"Helvetica,sans-Serif\" font-size=\"14.00\">class = survived</text>\r\n",
       "</g>\r\n",
       "<!-- 25&#45;&gt;26 -->\r\n",
       "<g id=\"edge26\" class=\"edge\"><title>25&#45;&gt;26</title>\r\n",
       "<path fill=\"none\" stroke=\"black\" d=\"M1652.4,-103.726C1647.81,-95.0615 1642.96,-85.8962 1638.34,-77.1802\"/>\r\n",
       "<polygon fill=\"black\" stroke=\"black\" points=\"1641.41,-75.4982 1633.64,-68.2996 1635.23,-78.7748 1641.41,-75.4982\"/>\r\n",
       "</g>\r\n",
       "<!-- 27 -->\r\n",
       "<g id=\"node28\" class=\"node\"><title>27</title>\r\n",
       "<path fill=\"#e58139\" fill-opacity=\"0.941176\" stroke=\"black\" d=\"M1786.5,-68C1786.5,-68 1705.5,-68 1705.5,-68 1699.5,-68 1693.5,-62 1693.5,-56 1693.5,-56 1693.5,-12 1693.5,-12 1693.5,-6 1699.5,-0 1705.5,-0 1705.5,-0 1786.5,-0 1786.5,-0 1792.5,-0 1798.5,-6 1798.5,-12 1798.5,-12 1798.5,-56 1798.5,-56 1798.5,-62 1792.5,-68 1786.5,-68\"/>\r\n",
       "<text text-anchor=\"start\" x=\"1708.5\" y=\"-52.8\" font-family=\"Helvetica,sans-Serif\" font-size=\"14.00\">gini = 0.105</text>\r\n",
       "<text text-anchor=\"start\" x=\"1702.5\" y=\"-37.8\" font-family=\"Helvetica,sans-Serif\" font-size=\"14.00\">samples = 18</text>\r\n",
       "<text text-anchor=\"start\" x=\"1701.5\" y=\"-22.8\" font-family=\"Helvetica,sans-Serif\" font-size=\"14.00\">value = [17, 1]</text>\r\n",
       "<text text-anchor=\"start\" x=\"1705\" y=\"-7.8\" font-family=\"Helvetica,sans-Serif\" font-size=\"14.00\">class = dead</text>\r\n",
       "</g>\r\n",
       "<!-- 25&#45;&gt;27 -->\r\n",
       "<g id=\"edge27\" class=\"edge\"><title>25&#45;&gt;27</title>\r\n",
       "<path fill=\"none\" stroke=\"black\" d=\"M1700.81,-103.726C1706.57,-94.9703 1712.66,-85.7032 1718.45,-76.9051\"/>\r\n",
       "<polygon fill=\"black\" stroke=\"black\" points=\"1721.53,-78.5781 1724.1,-68.2996 1715.69,-74.7322 1721.53,-78.5781\"/>\r\n",
       "</g>\r\n",
       "<!-- 29 -->\r\n",
       "<g id=\"node30\" class=\"node\"><title>29</title>\r\n",
       "<path fill=\"#e58139\" fill-opacity=\"0.721569\" stroke=\"black\" d=\"M1909.5,-68C1909.5,-68 1828.5,-68 1828.5,-68 1822.5,-68 1816.5,-62 1816.5,-56 1816.5,-56 1816.5,-12 1816.5,-12 1816.5,-6 1822.5,-0 1828.5,-0 1828.5,-0 1909.5,-0 1909.5,-0 1915.5,-0 1921.5,-6 1921.5,-12 1921.5,-12 1921.5,-56 1921.5,-56 1921.5,-62 1915.5,-68 1909.5,-68\"/>\r\n",
       "<text text-anchor=\"start\" x=\"1835.5\" y=\"-52.8\" font-family=\"Helvetica,sans-Serif\" font-size=\"14.00\">gini = 0.34</text>\r\n",
       "<text text-anchor=\"start\" x=\"1825.5\" y=\"-37.8\" font-family=\"Helvetica,sans-Serif\" font-size=\"14.00\">samples = 23</text>\r\n",
       "<text text-anchor=\"start\" x=\"1824.5\" y=\"-22.8\" font-family=\"Helvetica,sans-Serif\" font-size=\"14.00\">value = [18, 5]</text>\r\n",
       "<text text-anchor=\"start\" x=\"1828\" y=\"-7.8\" font-family=\"Helvetica,sans-Serif\" font-size=\"14.00\">class = dead</text>\r\n",
       "</g>\r\n",
       "<!-- 28&#45;&gt;29 -->\r\n",
       "<g id=\"edge29\" class=\"edge\"><title>28&#45;&gt;29</title>\r\n",
       "<path fill=\"none\" stroke=\"black\" d=\"M1869,-103.726C1869,-95.5175 1869,-86.8595 1869,-78.56\"/>\r\n",
       "<polygon fill=\"black\" stroke=\"black\" points=\"1872.5,-78.2996 1869,-68.2996 1865.5,-78.2996 1872.5,-78.2996\"/>\r\n",
       "</g>\r\n",
       "<!-- 30 -->\r\n",
       "<g id=\"node31\" class=\"node\"><title>30</title>\r\n",
       "<path fill=\"#e58139\" fill-opacity=\"0.886275\" stroke=\"black\" d=\"M2050,-68C2050,-68 1952,-68 1952,-68 1946,-68 1940,-62 1940,-56 1940,-56 1940,-12 1940,-12 1940,-6 1946,-0 1952,-0 1952,-0 2050,-0 2050,-0 2056,-0 2062,-6 2062,-12 2062,-12 2062,-56 2062,-56 2062,-62 2056,-68 2050,-68\"/>\r\n",
       "<text text-anchor=\"start\" x=\"1963.5\" y=\"-52.8\" font-family=\"Helvetica,sans-Serif\" font-size=\"14.00\">gini = 0.185</text>\r\n",
       "<text text-anchor=\"start\" x=\"1953.5\" y=\"-37.8\" font-family=\"Helvetica,sans-Serif\" font-size=\"14.00\">samples = 408</text>\r\n",
       "<text text-anchor=\"start\" x=\"1948\" y=\"-22.8\" font-family=\"Helvetica,sans-Serif\" font-size=\"14.00\">value = [366, 42]</text>\r\n",
       "<text text-anchor=\"start\" x=\"1960\" y=\"-7.8\" font-family=\"Helvetica,sans-Serif\" font-size=\"14.00\">class = dead</text>\r\n",
       "</g>\r\n",
       "<!-- 28&#45;&gt;30 -->\r\n",
       "<g id=\"edge30\" class=\"edge\"><title>28&#45;&gt;30</title>\r\n",
       "<path fill=\"none\" stroke=\"black\" d=\"M1918.15,-103.726C1929.59,-94.2406 1941.74,-84.1551 1953.12,-74.7159\"/>\r\n",
       "<polygon fill=\"black\" stroke=\"black\" points=\"1955.4,-77.3781 1960.86,-68.2996 1950.93,-71.9905 1955.4,-77.3781\"/>\r\n",
       "</g>\r\n",
       "</g>\r\n",
       "</svg>\r\n"
      ],
      "text/plain": [
       "<graphviz.files.Source at 0x19ab3438>"
      ]
     },
     "execution_count": 387,
     "metadata": {},
     "output_type": "execute_result"
    }
   ],
   "source": [
    "#Plot tree\n",
    "dot_data = tree.export_graphviz(clf, out_file=None, \\\n",
    "                         feature_names=df_data.columns, class_names = ['dead', 'survived'],\\\n",
    "                         filled=True, rounded=True, special_characters=True) \n",
    "graph = graphviz.Source(dot_data) \n",
    "graph"
   ]
  },
  {
   "cell_type": "code",
   "execution_count": 112,
   "metadata": {
    "collapsed": false
   },
   "outputs": [
    {
     "data": {
      "text/html": [
       "<div>\n",
       "<style>\n",
       "    .dataframe thead tr:only-child th {\n",
       "        text-align: right;\n",
       "    }\n",
       "\n",
       "    .dataframe thead th {\n",
       "        text-align: left;\n",
       "    }\n",
       "\n",
       "    .dataframe tbody tr th {\n",
       "        vertical-align: top;\n",
       "    }\n",
       "</style>\n",
       "<table border=\"1\" class=\"dataframe\">\n",
       "  <thead>\n",
       "    <tr style=\"text-align: right;\">\n",
       "      <th></th>\n",
       "      <th>Sex</th>\n",
       "      <th>Pclass</th>\n",
       "      <th>Cabin</th>\n",
       "      <th>Title</th>\n",
       "      <th>SibSp</th>\n",
       "      <th>Embarked</th>\n",
       "      <th>Age</th>\n",
       "      <th>Fare</th>\n",
       "      <th>Parch</th>\n",
       "    </tr>\n",
       "  </thead>\n",
       "  <tbody>\n",
       "    <tr>\n",
       "      <th>Importance</th>\n",
       "      <td>0.601972</td>\n",
       "      <td>0.153526</td>\n",
       "      <td>0.070759</td>\n",
       "      <td>0.060205</td>\n",
       "      <td>0.057604</td>\n",
       "      <td>0.034211</td>\n",
       "      <td>0.010351</td>\n",
       "      <td>0.00936</td>\n",
       "      <td>0.002012</td>\n",
       "    </tr>\n",
       "  </tbody>\n",
       "</table>\n",
       "</div>"
      ],
      "text/plain": [
       "                 Sex    Pclass     Cabin     Title     SibSp  Embarked  \\\n",
       "Importance  0.601972  0.153526  0.070759  0.060205  0.057604  0.034211   \n",
       "\n",
       "                 Age     Fare     Parch  \n",
       "Importance  0.010351  0.00936  0.002012  "
      ]
     },
     "execution_count": 112,
     "metadata": {},
     "output_type": "execute_result"
    }
   ],
   "source": [
    "# Show fature importance\n",
    "feature_table2 = pd.DataFrame(data = [clf.feature_importances_], index = ['Importance'], columns = df_data.columns)\n",
    "feature_table2 = feature_table2.sort_values(by = 'Importance', axis = 1, ascending = False).copy(deep=True)\n",
    "feature_table2"
   ]
  },
  {
   "cell_type": "markdown",
   "metadata": {},
   "source": [
    "### Observations\n",
    "* **Results:** training score now ~83% (closer to test score earlier). Constraining tree depth seems to help prevent overfitting.\n",
    "* **Features:**\n",
    "    * Sex: (being female) even more important\n",
    "    * Socio-economic status: Pclass/Cabin are most important after ; Title is also important, but only for men\n",
    "        * (cabin is the cabin letter A- ..., where A was closer to top deck, so that makes sense)\n",
    "    * More intuitive to understand now, although I would still make sure to sort Title somehow next time (eg common vs rare titles, or in order of socio-economic status and age)"
   ]
  },
  {
   "cell_type": "markdown",
   "metadata": {},
   "source": [
    "### 4.2 Sensitivity analysis for tuning hyper parameters"
   ]
  },
  {
   "cell_type": "markdown",
   "metadata": {},
   "source": [
    "### First, show how max_depth affects train and test accuracy"
   ]
  },
  {
   "cell_type": "code",
   "execution_count": 439,
   "metadata": {
    "collapsed": false
   },
   "outputs": [
    {
     "data": {
      "image/png": "[encoded data removed]",
      "text/plain": [
       "<matplotlib.figure.Figure at 0x1b1651d0>"
      ]
     },
     "metadata": {},
     "output_type": "display_data"
    }
   ],
   "source": [
    "# Set parameters for GridSearch\n",
    "parameters = {'max_depth': np.arange(1,21)}\n",
    "\n",
    "# Initialize classifier\n",
    "clf = GridSearchCV(estimator = DecisionTreeClassifier(random_state=42), param_grid = parameters, cv=10)\n",
    "clf.fit(df_data, df_target)\n",
    "\n",
    "results = pd.DataFrame(clf.cv_results_)\n",
    "\n",
    "# Graph results\n",
    "fig, ax = plt.subplots(figsize = (10,10))\n",
    "\n",
    "x = results['param_max_depth']\n",
    "y_test = results['mean_test_score']\n",
    "y_train = results['mean_train_score']\n",
    "\n",
    "ax.plot(x, y_test, color = 'r',  label = 'test')\n",
    "ax.plot(x, y_train, color = 'b',  label = 'train')\n",
    "\n",
    "plt.title('Accuracy vs. depth of tree', fontsize = 15)\n",
    "plt.ylabel('Accuracy', fontsize = 15)\n",
    "plt.xlabel('(max) depth of tree', fontsize = 15)\n",
    "\n",
    "ax.legend(loc='upper right', bbox_to_anchor=(1.2, 1), fontsize = 15)\n",
    "\n",
    "ax.spines['right'].set_visible(False)\n",
    "ax.spines['top'].set_visible(False)\n",
    "ax.grid(axis='x', b=0)\n",
    "\n",
    "plt.tick_params(axis='both', which='major', labelsize=13)\n",
    "\n",
    "plt.show()\n"
   ]
  },
  {
   "cell_type": "markdown",
   "metadata": {},
   "source": [
    "### Second, show how test accuracy relates to both max_depth and min_samples_leaf."
   ]
  },
  {
   "cell_type": "code",
   "execution_count": 705,
   "metadata": {
    "collapsed": false
   },
   "outputs": [
    {
     "data": {
      "text/plain": [
       "GridSearchCV(cv=10, error_score='raise',\n",
       "       estimator=DecisionTreeClassifier(class_weight=None, criterion='gini', max_depth=None,\n",
       "            max_features=None, max_leaf_nodes=None,\n",
       "            min_impurity_decrease=0.0, min_impurity_split=None,\n",
       "            min_samples_leaf=1, min_samples_split=2,\n",
       "            min_weight_fraction_leaf=0.0, presort=False, random_state=42,\n",
       "            splitter='best'),\n",
       "       fit_params=None, iid=True, n_jobs=1,\n",
       "       param_grid={'max_depth': array([ 1,  2,  3,  4,  5,  6,  7,  8,  9, 10, 11, 12, 13, 14, 15, 16, 17,\n",
       "       18, 19, 20]), 'min_samples_leaf': array([ 1,  2,  3,  4,  5,  6,  7,  8,  9, 10, 11, 12, 13, 14, 15, 16, 17,\n",
       "       18, 19, 20, 21, 22, 23, 24, 25, 26, 27, 28, 29, 30, 31, 32, 33, 34,\n",
       "       35, 36, 37, 38, 39, 40, 41, 42, 43, 44, 45, 46, 47, 48, 49])},\n",
       "       pre_dispatch='2*n_jobs', refit=True, return_train_score=True,\n",
       "       scoring=None, verbose=0)"
      ]
     },
     "execution_count": 705,
     "metadata": {},
     "output_type": "execute_result"
    }
   ],
   "source": [
    "from sklearn.model_selection import GridSearchCV\n",
    "\n",
    "# Set parameters for GridSearch\n",
    "parameters = {'max_depth': np.arange(1,21), 'min_samples_leaf': np.arange(1,50)}\n",
    "\n",
    "# Initialize classifier\n",
    "clf = GridSearchCV(estimator = DecisionTreeClassifier(random_state=42), param_grid = parameters, cv=10)\n",
    "clf.fit(df_data, df_target)"
   ]
  },
  {
   "cell_type": "code",
   "execution_count": 706,
   "metadata": {
    "collapsed": false
   },
   "outputs": [
    {
     "data": {
      "image/png": "[encoded data removed]",
      "text/plain": [
       "<matplotlib.figure.Figure at 0x19b7b9b0>"
      ]
     },
     "metadata": {},
     "output_type": "display_data"
    }
   ],
   "source": [
    "# Results\n",
    "results = pd.DataFrame(clf.cv_results_)\n",
    "\n",
    "# Graph results\n",
    "import matplotlib.pyplot as plt\n",
    "from mpl_toolkits.mplot3d import Axes3D\n",
    "from matplotlib import cm\n",
    "from matplotlib.ticker import LinearLocator, FormatStrFormatter\n",
    "from scipy.interpolate import griddata\n",
    "\n",
    "\n",
    "x = np.linspace(results['param_max_depth'].min(), results['param_max_depth'].max(), len(results['param_max_depth'].unique()))\n",
    "y = np.linspace(results['param_min_samples_leaf'].min(), results['param_min_samples_leaf'].max(), len(results['param_min_samples_leaf'].unique()))\n",
    "z = results['mean_test_score']\n",
    "\n",
    "X, Y = np.meshgrid(x, y)\n",
    "Z = griddata((results['param_max_depth'], results['param_min_samples_leaf']), z, (X, Y), method='cubic')\n",
    "\n",
    "fig = plt.figure(figsize = (16,10))\n",
    "ax = fig.gca(projection='3d')\n",
    "surf = ax.plot_surface(X, Y, Z, rstride=1, cstride=1, cmap=cm.coolwarm,\n",
    "    linewidth=0, antialiased=False)\n",
    "ax.set_zlim(0.75, 0.85)\n",
    "\n",
    "ax.zaxis.set_major_locator(LinearLocator(10))\n",
    "ax.zaxis.set_major_formatter(FormatStrFormatter('%.02f'))\n",
    "\n",
    "fig.colorbar(surf, shrink=1, aspect=5)\n",
    "plt.title('3D plot hyperparameters vs accuracy')\n",
    "\n",
    "plt.xlabel('(max) depth of tree')\n",
    "plt.ylabel('Min. samples per leaf')\n",
    "\n",
    "plt.show()\n"
   ]
  },
  {
   "cell_type": "code",
   "execution_count": 709,
   "metadata": {
    "collapsed": false
   },
   "outputs": [
    {
     "data": {
      "text/html": [
       "<div>\n",
       "<style>\n",
       "    .dataframe thead tr:only-child th {\n",
       "        text-align: right;\n",
       "    }\n",
       "\n",
       "    .dataframe thead th {\n",
       "        text-align: left;\n",
       "    }\n",
       "\n",
       "    .dataframe tbody tr th {\n",
       "        vertical-align: top;\n",
       "    }\n",
       "</style>\n",
       "<table border=\"1\" class=\"dataframe\">\n",
       "  <thead>\n",
       "    <tr style=\"text-align: right;\">\n",
       "      <th></th>\n",
       "      <th>mean_fit_time</th>\n",
       "      <th>mean_score_time</th>\n",
       "      <th>mean_test_score</th>\n",
       "      <th>mean_train_score</th>\n",
       "      <th>param_max_depth</th>\n",
       "      <th>param_min_samples_leaf</th>\n",
       "      <th>params</th>\n",
       "      <th>rank_test_score</th>\n",
       "      <th>split0_test_score</th>\n",
       "      <th>split0_train_score</th>\n",
       "      <th>...</th>\n",
       "      <th>split7_test_score</th>\n",
       "      <th>split7_train_score</th>\n",
       "      <th>split8_test_score</th>\n",
       "      <th>split8_train_score</th>\n",
       "      <th>split9_test_score</th>\n",
       "      <th>split9_train_score</th>\n",
       "      <th>std_fit_time</th>\n",
       "      <th>std_score_time</th>\n",
       "      <th>std_test_score</th>\n",
       "      <th>std_train_score</th>\n",
       "    </tr>\n",
       "  </thead>\n",
       "  <tbody>\n",
       "    <tr>\n",
       "      <th>443</th>\n",
       "      <td>0.001</td>\n",
       "      <td>0.001</td>\n",
       "      <td>0.836139</td>\n",
       "      <td>0.87991</td>\n",
       "      <td>10</td>\n",
       "      <td>3</td>\n",
       "      <td>{'max_depth': 10, 'min_samples_leaf': 3}</td>\n",
       "      <td>1</td>\n",
       "      <td>0.788889</td>\n",
       "      <td>0.877653</td>\n",
       "      <td>...</td>\n",
       "      <td>0.820225</td>\n",
       "      <td>0.879052</td>\n",
       "      <td>0.842697</td>\n",
       "      <td>0.877805</td>\n",
       "      <td>0.852273</td>\n",
       "      <td>0.877958</td>\n",
       "      <td>0.003</td>\n",
       "      <td>0.003</td>\n",
       "      <td>0.038608</td>\n",
       "      <td>0.004527</td>\n",
       "    </tr>\n",
       "  </tbody>\n",
       "</table>\n",
       "<p>1 rows × 32 columns</p>\n",
       "</div>"
      ],
      "text/plain": [
       "     mean_fit_time  mean_score_time  mean_test_score  mean_train_score  \\\n",
       "443          0.001            0.001         0.836139           0.87991   \n",
       "\n",
       "    param_max_depth param_min_samples_leaf  \\\n",
       "443              10                      3   \n",
       "\n",
       "                                       params  rank_test_score  \\\n",
       "443  {'max_depth': 10, 'min_samples_leaf': 3}                1   \n",
       "\n",
       "     split0_test_score  split0_train_score       ...         \\\n",
       "443           0.788889            0.877653       ...          \n",
       "\n",
       "     split7_test_score  split7_train_score  split8_test_score  \\\n",
       "443           0.820225            0.879052           0.842697   \n",
       "\n",
       "     split8_train_score  split9_test_score  split9_train_score  std_fit_time  \\\n",
       "443            0.877805           0.852273            0.877958         0.003   \n",
       "\n",
       "     std_score_time  std_test_score  std_train_score  \n",
       "443           0.003        0.038608         0.004527  \n",
       "\n",
       "[1 rows x 32 columns]"
      ]
     },
     "execution_count": 709,
     "metadata": {},
     "output_type": "execute_result"
    }
   ],
   "source": [
    "# Highest accuracy\n",
    "results[results.mean_test_score== results.mean_test_score.max()].head(1)"
   ]
  },
  {
   "cell_type": "markdown",
   "metadata": {},
   "source": [
    "### Observations\n",
    "\n",
    "* **First step, max_depth and accuracy**\n",
    "    * Too shallow a tree will lead to bias, i.e. underfit on the data. You see the bad performance for both train and test\n",
    "    * As expected, with increasing depth the decision tree will overfit on the training set (increase train accuracy)\n",
    "    * The impact on test accuracy isn't too big here (fluctuating, a few %pts). I would expect peformance on the training set to go down with increasing depth  (because of too high variance / overfitting on training data). Part of the explanation could be that the tree doesn't go very deep before it can't make further splits based on samples left. Ie max_depth of >10 is basically the same as max_depth 10 here. \n",
    "* **Second step, max_depth + min_samples_leaf  and accuracy**\n",
    "    * A combination of max_depth = 10 and min_samples_leaf = 3 achieves the highest test accuracy. This is slightly better performance than just hypertuning max_depth\n",
    "    * It makes sense that performance is highest, because the two hyperparameters work a bit like regularization, i.e. max_depth allows more and more 'interactions/variables'= splits and min_samples acts as regularization to prevent overfitting on each individual sample\n",
    "    * The performance is roughly equally sensitive to these parameters (~78%-84%). This is what you would expect, since min_samples and max_depth are very close related (specifying a small min_sample is the same as a big max_depth ; low max_depth implies big min_samples)\n",
    "    * Overall, a difference of ~6%pts means the performance is quite sensitive to these hyperparameters\n",
    "    * Although roughly equal range, sensitivity for depth/leafs differs based on what part of the graph you are at, eg:\n",
    "        * At low max_depth, adding a new layer of depth has a much bigger impact in terms of samples than min_samples (in fact, requiring min 1 or min 10 samples probably doesnt matter yet as all splits will have 30+ samples left)\n",
    "        * At high max_depth (ie 1-3 samples left per leaf), requiring a higher min_samples per leaf will have a big impact because it can constrain max_depth significantly"
   ]
  },
  {
   "cell_type": "markdown",
   "metadata": {
    "collapsed": true
   },
   "source": [
    "## 5. Multi model optimization and evaluation\n",
    "\n",
    "Here I tune and compare a larger set of models, incl. an ensemble of all of them. \n",
    "* Trees: Decision tree, Random Forest, Gradient Boosted Tree\n",
    "* Logistic Regression, incl. LASSO / Ridge Regression\n",
    "* k-Nearest Neighbors\n",
    "* Multi-layer perceptron"
   ]
  },
  {
   "cell_type": "markdown",
   "metadata": {},
   "source": [
    "### Notes on providing same data to each algorithm in a sensible way \n",
    "* I used the same data for each algorithm, but with two different approaches to converting data into categories:\n",
    "    * Numerical categories: tree, rf gbtree. Decision trees handle numcat better in terms of splitting (vs. many one-hot splits)\n",
    "    * One-hot: lassoreg, knn, MLP. One-hot here serves as a form of normalization. This is important for regularized regression (LASSO) and distance based classifiers (knn). It will never hurt for MLP since a randomly assigned higher/lower encoding should not contain any information (also, 'when in doubt')"
   ]
  },
  {
   "cell_type": "code",
   "execution_count": 27,
   "metadata": {
    "collapsed": false
   },
   "outputs": [],
   "source": [
    "# Create some dataframes for our output \n",
    "clf_list = ['tree', 'rf', 'gbtree', 'lassoreg', 'knn', 'mlp']\n",
    "\n",
    "results_acc = pd.DataFrame(index = clf_list, columns = ['test', 'train'])\n",
    "results_auc = pd.DataFrame(index = clf_list, columns = ['test', 'train'])\n",
    "predictions = pd.DataFrame(index = np.arange(0,len(df_data)), columns = clf_list)"
   ]
  },
  {
   "cell_type": "code",
   "execution_count": 28,
   "metadata": {
    "collapsed": false
   },
   "outputs": [],
   "source": [
    "# Create a function to automatically store our results\n",
    "\n",
    "def store_results_cv(clf, df_data, ml):\n",
    "    results_acc.loc[ml, 'test'] = clf.cv_results_['mean_test_accuracy'][clf.cv_results_['rank_test_accuracy'] == 1][0]\n",
    "    results_acc.loc[ml, 'train'] = clf.cv_results_['mean_train_accuracy'][clf.cv_results_['rank_test_accuracy'] == 1][0]\n",
    "    \n",
    "    results_auc.loc[ml, 'test'] = clf.cv_results_['mean_test_roc_auc'][clf.cv_results_['rank_test_roc_auc'] == 1][0]\n",
    "    results_auc.loc[ml, 'train'] = clf.cv_results_['mean_train_roc_auc'][clf.cv_results_['rank_test_roc_auc'] == 1][0]\n",
    "    \n",
    "    predictions[ml] = clf.predict(df_data)"
   ]
  },
  {
   "cell_type": "code",
   "execution_count": 29,
   "metadata": {
    "collapsed": false
   },
   "outputs": [],
   "source": [
    "# Create a function to run all the regressions\n",
    "\n",
    "def run_algorithm_cv(df_data, df_target, ml, cv=10):\n",
    "    \n",
    "    # Set seed\n",
    "    np.random.seed(seed=42)\n",
    "    \n",
    "    # import models\n",
    "    from sklearn.tree import DecisionTreeClassifier\n",
    "    from sklearn.ensemble import RandomForestClassifier\n",
    "    from sklearn.ensemble import GradientBoostingClassifier\n",
    "    from sklearn.linear_model import LogisticRegression\n",
    "    from sklearn.neighbors import KNeighborsClassifier\n",
    "    from sklearn.neural_network import MLPClassifier\n",
    "    from sklearn.model_selection import GridSearchCV\n",
    "\n",
    "    \n",
    "    # Initialize classifier and set parameter search optimization grid\n",
    "    if ml == 'tree':\n",
    "        algo = DecisionTreeClassifier() \n",
    "        parameters = {'max_depth': [10], 'min_samples_leaf': [3]} # already optimized\n",
    "    if ml == 'rf':\n",
    "        algo = RandomForestClassifier()\n",
    "        parameters = {'n_estimators': [10, 30, 100, 300],\\\n",
    "              'min_samples_leaf': [1, 3, 10, 30], 'max_depth': [3, 10, 30]}\n",
    "    if ml == 'gbtree':\n",
    "        algo = GradientBoostingClassifier()\n",
    "        parameters = {'n_estimators': [3, 10, 30],\\\n",
    "              'min_samples_leaf': [1, 3, 10, 30], 'max_depth': [3, 10, 100, 300]}\n",
    "    if ml == 'knn':\n",
    "        algo = KNeighborsClassifier()\n",
    "        parameters = {'n_neighbors': [1, 3,5]}\n",
    "    if ml == 'lassoreg':\n",
    "        algo = LogisticRegression(penalty = 'l1') # LASSO\n",
    "        parameters = {'C': [0.1, 1, 3, 10]}\n",
    "    if ml == 'mlp':\n",
    "        algo = MLPClassifier() \n",
    "        parameters = {'hidden_layer_sizes': [(30,), (100, ),(100,100 ), (100,100,100)],\\\n",
    "                      'max_iter': [200,1000], 'alpha': [0.0001, 0.000001]} \n",
    "    \n",
    "    # Initialize and fit classifier\n",
    "    clf = GridSearchCV(estimator = algo, param_grid = parameters,\\\n",
    "                   scoring = ['accuracy', 'roc_auc'], refit = 'accuracy', cv=10)\n",
    "    clf.fit(df_data, df_target)\n",
    "    \n",
    "    # Write scores to our relevant dfs\n",
    "    store_results_cv(clf, df_data, ml)\n",
    "    \n",
    "    print('Algorithm: ', ml)\n",
    "    print('Avg test accuracy (best test): ', clf.cv_results_['mean_test_accuracy'][clf.cv_results_['rank_test_accuracy']==1])\n",
    "    print('Avg train accuracy (best test): ', clf.cv_results_['mean_train_accuracy'][clf.cv_results_['rank_test_accuracy']==1])\n",
    "    print()\n",
    "    return"
   ]
  },
  {
   "cell_type": "code",
   "execution_count": 30,
   "metadata": {
    "collapsed": false
   },
   "outputs": [
    {
     "name": "stdout",
     "output_type": "stream",
     "text": [
      "Algorithm:  lassoreg\n",
      "Avg test accuracy (best test):  [ 0.82154882]\n",
      "Avg train accuracy (best test):  [ 0.84150216]\n",
      "\n",
      "Algorithm:  knn\n",
      "Avg test accuracy (best test):  [ 0.80583614]\n",
      "Avg train accuracy (best test):  [ 0.87417252]\n",
      "\n",
      "Algorithm:  mlp\n",
      "Avg test accuracy (best test):  [ 0.82940516  0.82940516]\n",
      "Avg train accuracy (best test):  [ 0.85534178  0.85247659]\n",
      "\n"
     ]
    }
   ],
   "source": [
    "# create one-hot data format and run one-hot algorithms\n",
    "df_data = df_train_onehot.drop(['Survived'], axis = 1)\n",
    "df_target = df_train_onehot['Survived']\n",
    "\n",
    "for i in ['lassoreg', 'knn', 'mlp']:\n",
    "    run_algorithm_cv(df_data, df_target, i)"
   ]
  },
  {
   "cell_type": "code",
   "execution_count": 31,
   "metadata": {
    "collapsed": false
   },
   "outputs": [
    {
     "name": "stdout",
     "output_type": "stream",
     "text": [
      "Algorithm:  tree\n",
      "Avg test accuracy (best test):  [ 0.83501684]\n",
      "Avg train accuracy (best test):  [ 0.87966098]\n",
      "\n",
      "Algorithm:  rf\n",
      "Avg test accuracy (best test):  [ 0.8372615  0.8372615]\n",
      "Avg train accuracy (best test):  [ 0.87429985  0.87430032]\n",
      "\n",
      "Algorithm:  gbtree\n",
      "Avg test accuracy (best test):  [ 0.83838384]\n",
      "Avg train accuracy (best test):  [ 0.89400294]\n",
      "\n"
     ]
    }
   ],
   "source": [
    "# create numcat data format and run numcat algorithms\n",
    "df_data2 = df_train_numcat.drop(['Survived'], axis = 1)\n",
    "df_target2 = df_train_numcat['Survived']\n",
    "\n",
    "for j in ['tree', 'rf', 'gbtree']:\n",
    "    run_algorithm_cv(df_data2, df_target2, j)"
   ]
  },
  {
   "cell_type": "markdown",
   "metadata": {},
   "source": [
    "### Barplot "
   ]
  },
  {
   "cell_type": "code",
   "execution_count": 76,
   "metadata": {
    "collapsed": false
   },
   "outputs": [
    {
     "data": {
      "image/png": "[encoded data removed]",
      "text/plain": [
       "<matplotlib.figure.Figure at 0x1764dc50>"
      ]
     },
     "metadata": {},
     "output_type": "display_data"
    }
   ],
   "source": [
    "fig, axes = plt.subplots(2, 2, figsize=(16, 10))\n",
    "\n",
    "sns.barplot(x=results_acc.index.tolist(), y='test',  data=results_acc, ax=axes[0,0]).set_title('Accuracy per algorithm (test)')\n",
    "sns.barplot(x=results_auc.index.tolist(), y='test',  data=results_auc, ax=axes[0,1]).set_title('AUC (ROC) per algorithm (test)')\n",
    "sns.barplot(x=results_acc.index.tolist(), y='train', data=results_acc, ax=axes[1,0]).set_title('Accuracy per algorithm (train)')\n",
    "sns.barplot(x=results_auc.index.tolist(), y='train', data=results_auc, ax=axes[1,1]).set_title('AUC (ROC) per algorithm (train)')\n",
    "\n",
    "axes[0,0].set_ylim(0.5,1)\n",
    "axes[0,1].set_ylim(0.5,1)\n",
    "axes[1,0].set_ylim(0.5,1)\n",
    "axes[1,1].set_ylim(0.5,1)\n",
    "\n",
    "plt.show()"
   ]
  },
  {
   "cell_type": "markdown",
   "metadata": {},
   "source": [
    "### Observations\n",
    "**What algorithm performs best?**\n",
    "* First of all, performance between algorithms is not that different. After hypertuning they all get to ~80-83% accuracy and ~85-87% AUC\n",
    "* In this case at least, conclusions on relative performance of the algorithms would not be different between accuracy and ROC as a metric\n",
    "* RandomForest and GradientBoostedTree perform best overall"
   ]
  },
  {
   "cell_type": "markdown",
   "metadata": {},
   "source": [
    "### 5.2 Error analysis\n",
    "\n",
    "Error analysis can be helpful to improve model performance. I did some manual inspection and looked at the correlation matrix for any patterns. "
   ]
  },
  {
   "cell_type": "code",
   "execution_count": 33,
   "metadata": {
    "collapsed": false
   },
   "outputs": [
    {
     "data": {
      "text/html": [
       "<div>\n",
       "<style>\n",
       "    .dataframe thead tr:only-child th {\n",
       "        text-align: right;\n",
       "    }\n",
       "\n",
       "    .dataframe thead th {\n",
       "        text-align: left;\n",
       "    }\n",
       "\n",
       "    .dataframe tbody tr th {\n",
       "        vertical-align: top;\n",
       "    }\n",
       "</style>\n",
       "<table border=\"1\" class=\"dataframe\">\n",
       "  <thead>\n",
       "    <tr style=\"text-align: right;\">\n",
       "      <th></th>\n",
       "      <th>tree</th>\n",
       "      <th>rf</th>\n",
       "      <th>gbtree</th>\n",
       "      <th>lassoreg</th>\n",
       "      <th>knn</th>\n",
       "      <th>mlp</th>\n",
       "      <th>ACTUAL</th>\n",
       "    </tr>\n",
       "  </thead>\n",
       "  <tbody>\n",
       "    <tr>\n",
       "      <th>0</th>\n",
       "      <td>0</td>\n",
       "      <td>0</td>\n",
       "      <td>0</td>\n",
       "      <td>0</td>\n",
       "      <td>0</td>\n",
       "      <td>0</td>\n",
       "      <td>0</td>\n",
       "    </tr>\n",
       "    <tr>\n",
       "      <th>1</th>\n",
       "      <td>1</td>\n",
       "      <td>1</td>\n",
       "      <td>1</td>\n",
       "      <td>1</td>\n",
       "      <td>1</td>\n",
       "      <td>1</td>\n",
       "      <td>1</td>\n",
       "    </tr>\n",
       "    <tr>\n",
       "      <th>2</th>\n",
       "      <td>1</td>\n",
       "      <td>1</td>\n",
       "      <td>1</td>\n",
       "      <td>1</td>\n",
       "      <td>0</td>\n",
       "      <td>1</td>\n",
       "      <td>1</td>\n",
       "    </tr>\n",
       "    <tr>\n",
       "      <th>3</th>\n",
       "      <td>1</td>\n",
       "      <td>1</td>\n",
       "      <td>1</td>\n",
       "      <td>1</td>\n",
       "      <td>1</td>\n",
       "      <td>1</td>\n",
       "      <td>1</td>\n",
       "    </tr>\n",
       "    <tr>\n",
       "      <th>4</th>\n",
       "      <td>0</td>\n",
       "      <td>0</td>\n",
       "      <td>0</td>\n",
       "      <td>0</td>\n",
       "      <td>0</td>\n",
       "      <td>0</td>\n",
       "      <td>0</td>\n",
       "    </tr>\n",
       "    <tr>\n",
       "      <th>5</th>\n",
       "      <td>0</td>\n",
       "      <td>0</td>\n",
       "      <td>0</td>\n",
       "      <td>0</td>\n",
       "      <td>0</td>\n",
       "      <td>0</td>\n",
       "      <td>0</td>\n",
       "    </tr>\n",
       "    <tr>\n",
       "      <th>6</th>\n",
       "      <td>0</td>\n",
       "      <td>0</td>\n",
       "      <td>0</td>\n",
       "      <td>1</td>\n",
       "      <td>0</td>\n",
       "      <td>0</td>\n",
       "      <td>0</td>\n",
       "    </tr>\n",
       "    <tr>\n",
       "      <th>7</th>\n",
       "      <td>0</td>\n",
       "      <td>0</td>\n",
       "      <td>0</td>\n",
       "      <td>0</td>\n",
       "      <td>0</td>\n",
       "      <td>0</td>\n",
       "      <td>0</td>\n",
       "    </tr>\n",
       "    <tr>\n",
       "      <th>8</th>\n",
       "      <td>1</td>\n",
       "      <td>1</td>\n",
       "      <td>1</td>\n",
       "      <td>0</td>\n",
       "      <td>1</td>\n",
       "      <td>1</td>\n",
       "      <td>1</td>\n",
       "    </tr>\n",
       "    <tr>\n",
       "      <th>9</th>\n",
       "      <td>1</td>\n",
       "      <td>1</td>\n",
       "      <td>1</td>\n",
       "      <td>1</td>\n",
       "      <td>1</td>\n",
       "      <td>1</td>\n",
       "      <td>1</td>\n",
       "    </tr>\n",
       "  </tbody>\n",
       "</table>\n",
       "</div>"
      ],
      "text/plain": [
       "   tree  rf  gbtree  lassoreg  knn  mlp  ACTUAL\n",
       "0     0   0       0         0    0    0       0\n",
       "1     1   1       1         1    1    1       1\n",
       "2     1   1       1         1    0    1       1\n",
       "3     1   1       1         1    1    1       1\n",
       "4     0   0       0         0    0    0       0\n",
       "5     0   0       0         0    0    0       0\n",
       "6     0   0       0         1    0    0       0\n",
       "7     0   0       0         0    0    0       0\n",
       "8     1   1       1         0    1    1       1\n",
       "9     1   1       1         1    1    1       1"
      ]
     },
     "execution_count": 33,
     "metadata": {},
     "output_type": "execute_result"
    }
   ],
   "source": [
    "# looked at first 150 or so examples, showing 10 here for illustratative purposes\n",
    "predictions['ACTUAL'] = df_target\n",
    "predictions.head(10)"
   ]
  },
  {
   "cell_type": "markdown",
   "metadata": {},
   "source": [
    "### Observations (error analysis)\n",
    "* The models are most often either all right or all completely wrong, except knn and lassoreg. These two tend to predict differently more often. So the models do seem to get the same individuals right or wrong, but there is some potentially helpful variation (esp. with knn and lassoreg)"
   ]
  },
  {
   "cell_type": "markdown",
   "metadata": {},
   "source": [
    "### Correlation matrix"
   ]
  },
  {
   "cell_type": "code",
   "execution_count": 38,
   "metadata": {
    "collapsed": false
   },
   "outputs": [
    {
     "data": {
      "image/png": "[encoded data removed]",
      "text/plain": [
       "<matplotlib.figure.Figure at 0x16ab3dd8>"
      ]
     },
     "metadata": {},
     "output_type": "display_data"
    }
   ],
   "source": [
    "# create data for the correlation matrix\n",
    "#predictions = predictions.drop('ACTUAL', axis = 1)\n",
    "data = predictions.corr();\n",
    "\n",
    "# create a figure object, add one subplot and make it a bit larger / easier to see\n",
    "fig, ax = plt.subplots(figsize=(10, 10));\n",
    "cax = ax.matshow(data, cmap='RdYlGn', vmin = 0.6, vmax = 1);\n",
    "\n",
    "plt.xticks(range(len(data.columns)), data.columns);\n",
    "plt.yticks(range(len(data.columns)), data.columns);\n",
    "\n",
    "fig.colorbar(cax, fraction = 0.15, shrink = 0.82);\n",
    "\n",
    "for (i, j), z in np.ndenumerate(data):\n",
    "    ax.text(j, i, '{:0.2f}'.format(z), ha='center', va='center',\n",
    "            bbox=dict(boxstyle='round', facecolor='white', edgecolor='0.3'))\n",
    "\n",
    "ax.grid(axis='both', b=0)\n",
    "\n",
    "# show result\n",
    "plt.show();"
   ]
  },
  {
   "cell_type": "markdown",
   "metadata": {},
   "source": [
    "### Observations\n",
    "* Indeed see very high correlations for most algo's (88-95%), but lower correlations for lassoreg and knn with others (66-82%)\n",
    "* (visually in graph above you see the more yellow-ish band for lassoreg/knn)"
   ]
  },
  {
   "cell_type": "markdown",
   "metadata": {},
   "source": [
    "### 5.3 Develop an ensemble"
   ]
  },
  {
   "cell_type": "code",
   "execution_count": 132,
   "metadata": {
    "collapsed": false
   },
   "outputs": [
    {
     "name": "stdout",
     "output_type": "stream",
     "text": [
      "accuracy ensemble:  0.8911335578\n"
     ]
    }
   ],
   "source": [
    "\n",
    "predictions['ensemble'] = np.sum(predictions[clf_list], axis = 1) > 3 # Tie votes default to '1' based on 'tuning' range 1-6\n",
    "predictions['target'] = df_target\n",
    "\n",
    "print('accuracy ensemble: ', np.sum(predictions['ensemble'] == predictions['target']) / len(predictions))\n",
    "    "
   ]
  },
  {
   "cell_type": "markdown",
   "metadata": {},
   "source": [
    "### Observations\n",
    "* WOW! Thats quite an improvement (89% vs. 83.7% for the best individual model)\n",
    "* The (slight) variation between model really works well. I.e. if one model 'slips up' the consensus of other models tends to correct"
   ]
  },
  {
   "cell_type": "markdown",
   "metadata": {},
   "source": [
    "### 5.4 Insights from feature importances\n",
    "\n",
    "It's interesting to explore which features had the largest impact on predicting whether a passenger survived or not. I'll compare feature importances across models below."
   ]
  },
  {
   "cell_type": "markdown",
   "metadata": {},
   "source": [
    "### Notes\n",
    "\n",
    "* knn and mlp are hard to interpret re: feature importance\n",
    "    * knn has no obvious metric of feature importance.(One could try and construct eg avg distance of predictions to features?)\n",
    "    * mlp is differentiable and so it is possible to show which inputs will move the output most if slightly changed. However that's not trivial to construct and even thenfor a neural network, these interpretations are local\n",
    "\n",
    "* Thus, we'll focus on tree, rf and gbtree, lassoreg below"
   ]
  },
  {
   "cell_type": "markdown",
   "metadata": {},
   "source": [
    "### Feature importances"
   ]
  },
  {
   "cell_type": "code",
   "execution_count": 166,
   "metadata": {
    "collapsed": true
   },
   "outputs": [],
   "source": [
    "from sklearn.tree import DecisionTreeClassifier\n",
    "from sklearn.ensemble import RandomForestClassifier\n",
    "from sklearn.ensemble import GradientBoostingClassifier\n",
    "from sklearn.linear_model import LogisticRegression\n",
    "from sklearn.model_selection import GridSearchCV"
   ]
  },
  {
   "cell_type": "code",
   "execution_count": 153,
   "metadata": {
    "collapsed": true
   },
   "outputs": [],
   "source": [
    "# df for results\n",
    "f_imp= pd.DataFrame( index = df_data.columns, columns = ['lreg', 'tree', 'rf', 'gbtree'])"
   ]
  },
  {
   "cell_type": "code",
   "execution_count": 202,
   "metadata": {
    "collapsed": true
   },
   "outputs": [],
   "source": [
    "# Data\n",
    "df_data = df_train_numcat.drop(['Survived'], axis = 1)\n",
    "df_target = df_train_numcat['Survived']"
   ]
  },
  {
   "cell_type": "code",
   "execution_count": 203,
   "metadata": {
    "collapsed": false
   },
   "outputs": [
    {
     "name": "stdout",
     "output_type": "stream",
     "text": [
      "best param:  LogisticRegression(C=0.1, class_weight=None, dual=False, fit_intercept=True,\n",
      "          intercept_scaling=1, max_iter=100, multi_class='ovr', n_jobs=1,\n",
      "          penalty='l2', random_state=42, solver='liblinear', tol=0.0001,\n",
      "          verbose=0, warm_start=False)\n"
     ]
    }
   ],
   "source": [
    "# LASSOREG (NORMALIZED)\n",
    "# Create data format\n",
    "df_data = standardize(df_data)\n",
    "\n",
    "# Set parameters for GridSearch\n",
    "parameters = {'C': [0.1, 1, 3, 10]}\n",
    "\n",
    "# Initialize classifier\n",
    "clf = GridSearchCV(estimator = LogisticRegression(random_state=42), param_grid = parameters, cv=10)\n",
    "clf.fit(df_data, df_target)\n",
    "\n",
    "print('best param: ', clf.best_estimator_)     "
   ]
  },
  {
   "cell_type": "code",
   "execution_count": 204,
   "metadata": {
    "collapsed": false
   },
   "outputs": [],
   "source": [
    "clf = LogisticRegression(C=0.1, class_weight=None, dual=False, fit_intercept=True,\n",
    "          intercept_scaling=1, max_iter=100, multi_class='ovr', n_jobs=1,\n",
    "          penalty='l2', random_state=42, solver='liblinear', tol=0.0001,\n",
    "          verbose=0, warm_start=False)\n",
    "clf.fit(df_data, df_target)\n",
    "f_imp['lreg'] = abs(clf.coef_[0])\n",
    "f_imp['rank_lreg'] = f_imp['lreg'].rank(ascending= False)\n"
   ]
  },
  {
   "cell_type": "code",
   "execution_count": 167,
   "metadata": {
    "collapsed": false
   },
   "outputs": [
    {
     "name": "stdout",
     "output_type": "stream",
     "text": [
      "best param:  DecisionTreeClassifier(class_weight=None, criterion='gini', max_depth=10,\n",
      "            max_features=None, max_leaf_nodes=None,\n",
      "            min_impurity_decrease=0.0, min_impurity_split=None,\n",
      "            min_samples_leaf=3, min_samples_split=2,\n",
      "            min_weight_fraction_leaf=0.0, presort=False, random_state=42,\n",
      "            splitter='best')\n"
     ]
    }
   ],
   "source": [
    "# TREE\n",
    "# Data\n",
    "df_data = df_train_numcat.drop(['Survived'], axis = 1)\n",
    "df_target = df_train_numcat['Survived']\n",
    "\n",
    "# Parameters\n",
    "parameters = {'max_depth': [10], 'min_samples_leaf': [3]} # already optimized before\n",
    "\n",
    "# Initialize classifier\n",
    "clf = GridSearchCV(estimator = DecisionTreeClassifier(random_state=42), param_grid = parameters, cv=10)\n",
    "clf.fit(df_data, df_target)\n",
    "\n",
    "print('best param: ', clf.best_estimator_)  "
   ]
  },
  {
   "cell_type": "code",
   "execution_count": 175,
   "metadata": {
    "collapsed": false
   },
   "outputs": [],
   "source": [
    "clf = DecisionTreeClassifier(class_weight=None, criterion='gini', max_depth=10,\n",
    "            max_features=None, max_leaf_nodes=None,\n",
    "            min_impurity_decrease=0.0, min_impurity_split=None,\n",
    "            min_samples_leaf=3, min_samples_split=2,\n",
    "            min_weight_fraction_leaf=0.0, presort=False, random_state=42,\n",
    "            splitter='best')\n",
    "                             \n",
    "clf.fit(df_data, df_target)\n",
    "f_imp['tree'] = abs(clf.feature_importances_)\n",
    "f_imp['rank_tree'] = f_imp['tree'].rank(ascending= False)"
   ]
  },
  {
   "cell_type": "code",
   "execution_count": 176,
   "metadata": {
    "collapsed": false
   },
   "outputs": [
    {
     "name": "stdout",
     "output_type": "stream",
     "text": [
      "best param:  RandomForestClassifier(bootstrap=True, class_weight=None, criterion='gini',\n",
      "            max_depth=10, max_features='auto', max_leaf_nodes=None,\n",
      "            min_impurity_decrease=0.0, min_impurity_split=None,\n",
      "            min_samples_leaf=3, min_samples_split=2,\n",
      "            min_weight_fraction_leaf=0.0, n_estimators=30, n_jobs=1,\n",
      "            oob_score=False, random_state=42, verbose=0, warm_start=False)\n"
     ]
    }
   ],
   "source": [
    "# RF\n",
    "# Data\n",
    "df_data = df_train_numcat.drop(['Survived'], axis = 1)\n",
    "df_target = df_train_numcat['Survived']\n",
    "\n",
    "# Parameters\n",
    "parameters = {'n_estimators': [10, 30, 100, 300],\\\n",
    "              'min_samples_leaf': [1, 3, 10, 30], 'max_depth': [3, 10, 30]}\n",
    "\n",
    "# Initialize classifier\n",
    "clf = GridSearchCV(estimator = RandomForestClassifier(random_state=42), param_grid = parameters, cv=10)\n",
    "clf.fit(df_data, df_target)\n",
    "\n",
    "print('best param: ', clf.best_estimator_)         "
   ]
  },
  {
   "cell_type": "code",
   "execution_count": 179,
   "metadata": {
    "collapsed": false
   },
   "outputs": [],
   "source": [
    "clf = RandomForestClassifier(bootstrap=True, class_weight=None, criterion='gini',\n",
    "            max_depth=10, max_features='auto', max_leaf_nodes=None,\n",
    "            min_impurity_decrease=0.0, min_impurity_split=None,\n",
    "            min_samples_leaf=3, min_samples_split=2,\n",
    "            min_weight_fraction_leaf=0.0, n_estimators=30, n_jobs=1,\n",
    "            oob_score=False, random_state=42, verbose=0, warm_start=False)\n",
    "                             \n",
    "clf.fit(df_data, df_target)\n",
    "f_imp['rf'] = abs(clf.feature_importances_)\n",
    "f_imp['rank_rf'] = f_imp['rf'].rank(ascending= False)"
   ]
  },
  {
   "cell_type": "code",
   "execution_count": 180,
   "metadata": {
    "collapsed": false
   },
   "outputs": [
    {
     "name": "stdout",
     "output_type": "stream",
     "text": [
      "best param:  GradientBoostingClassifier(criterion='friedman_mse', init=None,\n",
      "              learning_rate=0.1, loss='deviance', max_depth=100,\n",
      "              max_features=None, max_leaf_nodes=None,\n",
      "              min_impurity_decrease=0.0, min_impurity_split=None,\n",
      "              min_samples_leaf=3, min_samples_split=2,\n",
      "              min_weight_fraction_leaf=0.0, n_estimators=10,\n",
      "              presort='auto', random_state=42, subsample=1.0, verbose=0,\n",
      "              warm_start=False)\n"
     ]
    }
   ],
   "source": [
    "#GBTREE\n",
    "# Data\n",
    "df_data = df_train_numcat.drop(['Survived'], axis = 1)\n",
    "df_target = df_train_numcat['Survived']\n",
    "\n",
    "# Parameters\n",
    "parameters = {'n_estimators': [3, 10, 30],\\\n",
    "              'min_samples_leaf': [1, 3, 10, 30], 'max_depth': [3, 10, 100, 300]}\n",
    "\n",
    "# Initialize classifier\n",
    "clf = GridSearchCV(estimator = GradientBoostingClassifier(random_state=42), param_grid = parameters, cv=10)\n",
    "clf.fit(df_data, df_target)\n",
    "\n",
    "print('best param: ', clf.best_estimator_) "
   ]
  },
  {
   "cell_type": "code",
   "execution_count": 192,
   "metadata": {
    "collapsed": false
   },
   "outputs": [],
   "source": [
    "clf = GradientBoostingClassifier(criterion='friedman_mse', init=None,\n",
    "              learning_rate=0.1, loss='deviance', max_depth=100,\n",
    "              max_features=None, max_leaf_nodes=None,\n",
    "              min_impurity_decrease=0.0, min_impurity_split=None,\n",
    "              min_samples_leaf=3, min_samples_split=2,\n",
    "              min_weight_fraction_leaf=0.0, n_estimators=10,\n",
    "              presort='auto', random_state=42, subsample=1.0, verbose=0,\n",
    "              warm_start=False)\n",
    "                             \n",
    "clf.fit(df_data, df_target)\n",
    "f_imp['gbtree'] = abs(clf.feature_importances_)\n",
    "f_imp['rank_gbtree'] = f_imp['gbtree'].rank(ascending= False)"
   ]
  },
  {
   "cell_type": "code",
   "execution_count": 217,
   "metadata": {
    "collapsed": false
   },
   "outputs": [
    {
     "data": {
      "image/png": "[encoded data removed]",
      "text/plain": [
       "<matplotlib.figure.Figure at 0x16e24438>"
      ]
     },
     "metadata": {},
     "output_type": "display_data"
    },
    {
     "data": {
      "image/png": "[encoded data removed]",
      "text/plain": [
       "<matplotlib.figure.Figure at 0x1780fa90>"
      ]
     },
     "metadata": {},
     "output_type": "display_data"
    }
   ],
   "source": [
    "# Sort values\n",
    "f_imp = f_imp.sort_values(by = 'gbtree', ascending = False)\n",
    "\n",
    "# Create scatter plot values\n",
    "fig, ax = plt.subplots(figsize = (10,10));\n",
    "\n",
    "x = np.arange(1,10)\n",
    "y_lreg = f_imp['lreg']\n",
    "y_tree = f_imp['tree']\n",
    "y_rf = f_imp['rf']\n",
    "y_gbtree = f_imp['gbtree']\n",
    "\n",
    "ax.plot(x, y_lreg, color = 'r', marker = 'x', label = 'lreg')\n",
    "ax.plot(x, y_tree, color = 'b', marker = 'o',  label = 'tree')\n",
    "ax.plot(x, y_rf, color = 'g', marker = 'D',  label = 'rf')\n",
    "ax.plot(x, y_gbtree, color = 'black', marker = '^',  label = 'gbtree')\n",
    "\n",
    "plt.title('feature importance (values)', fontsize = 15)\n",
    "plt.ylabel('values', fontsize = 15)\n",
    "plt.xlabel('features', fontsize = 15)\n",
    "plt.xticks(x, f_imp.index.tolist())\n",
    "\n",
    "ax.legend(loc='upper right', bbox_to_anchor=(1.2, 1), fontsize = 15)\n",
    "\n",
    "ax.spines['right'].set_visible(False)\n",
    "ax.spines['top'].set_visible(False)\n",
    "ax.grid(axis='x', b=0)\n",
    "\n",
    "plt.tick_params(axis='both', which='major', labelsize=13)\n",
    "\n",
    "plt.show()\n",
    "\n",
    "# Create scatter plot rankings\n",
    "fig, ax = plt.subplots(figsize = (10,10));\n",
    "\n",
    "x = np.arange(1,10)\n",
    "y_lreg = f_imp['rank_lreg']\n",
    "y_tree = f_imp['rank_tree']\n",
    "y_rf = f_imp['rank_rf']\n",
    "y_gbtree = f_imp['rank_gbtree']\n",
    "\n",
    "ax.scatter(x, y_lreg, color = 'r', marker = 'x', label = 'lreg')\n",
    "ax.scatter(x, y_tree, color = 'b', marker = 'o',  label = 'tree')\n",
    "ax.scatter(x, y_rf, color = 'g', marker = 'D',  label = 'rf')\n",
    "ax.scatter(x, y_gbtree, color = 'black', marker = '^',  label = 'gbtree')\n",
    "\n",
    "plt.title('feature importance (ranking)', fontsize = 15)\n",
    "plt.ylabel('rank', fontsize = 15)\n",
    "plt.xlabel('features', fontsize = 15)\n",
    "plt.xticks(x, f_imp.index.tolist())\n",
    "\n",
    "ax.legend(loc='upper right', bbox_to_anchor=(1.2, 1), fontsize = 15)\n",
    "\n",
    "ax.spines['right'].set_visible(False)\n",
    "ax.spines['top'].set_visible(False)\n",
    "ax.grid(axis='x', b=0)\n",
    "\n",
    "plt.tick_params(axis='both', which='major', labelsize=13)\n",
    "\n",
    "plt.show()"
   ]
  },
  {
   "cell_type": "markdown",
   "metadata": {},
   "source": [
    "### Observations\n",
    "\n",
    "* The three tree-based models are very consistent in pointing to 'Sex' as most important by far. The differences in importance are less pronounced after that, but Pclass and Cabin are the next most important features. To interpret: women were most likely to survive. In addition, it mattered which Class you were staying (1st class was closer to deck) and which Cabin (certain cabin were closer to deck/life boats)\n",
    "* The logistic regression model agrees with Sex and Pclass being most important, but Pclass is weighted much more. This might be artifical though, since its probably the interaction between Sex and Pclass that really matters. (eg. anyone, including women, from 3rd class never reached the deck as they were locked in)\n",
    "\n",
    "\n",
    "* Overall, the tree based models are saying the same thing and logistic regression (depending a bit on data implementation) also largely agrees on the most important reasons. All models agree on 'Sex' being important.\n",
    "\n",
    "* The more correct phrasing is not \"Women and children first\" but rather \"Women from first class first\"..."
   ]
  }
 ],
 "metadata": {
  "anaconda-cloud": {},
  "kernelspec": {
   "display_name": "Python 3",
   "language": "python",
   "name": "python3"
  },
  "language_info": {
   "codemirror_mode": {
    "name": "ipython",
    "version": 3
   },
   "file_extension": ".py",
   "mimetype": "text/x-python",
   "name": "python",
   "nbconvert_exporter": "python",
   "pygments_lexer": "ipython3",
   "version": "3.6.1"
  }
 },
 "nbformat": 4,
 "nbformat_minor": 0
}
